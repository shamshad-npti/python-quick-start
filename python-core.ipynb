{
 "cells": [
  {
   "cell_type": "code",
   "execution_count": 1,
   "metadata": {
    "collapsed": false
   },
   "outputs": [
    {
     "name": "stdout",
     "output_type": "stream",
     "text": [
      "Python 3.5.1\n"
     ]
    }
   ],
   "source": [
    "%%sh \n",
    "python3 --version"
   ]
  },
  {
   "cell_type": "code",
   "execution_count": 2,
   "metadata": {
    "collapsed": false
   },
   "outputs": [
    {
     "name": "stdout",
     "output_type": "stream",
     "text": [
      "Hello World\n"
     ]
    }
   ],
   "source": [
    "print(\"Hello World\")"
   ]
  },
  {
   "cell_type": "code",
   "execution_count": 3,
   "metadata": {
    "collapsed": false
   },
   "outputs": [
    {
     "name": "stdout",
     "output_type": "stream",
     "text": [
      "30\n"
     ]
    }
   ],
   "source": [
    "# Python is dynamically typed langauge and we don't \n",
    "# need to specify data type of variable in advance\n",
    "x = 10\n",
    "y = 20\n",
    "print (x + y)"
   ]
  },
  {
   "cell_type": "code",
   "execution_count": 4,
   "metadata": {
    "collapsed": false
   },
   "outputs": [
    {
     "name": "stdout",
     "output_type": "stream",
     "text": [
      "<class 'int'>\n",
      "<class 'str'>\n"
     ]
    }
   ],
   "source": [
    "# Check type of a variable, constant\n",
    "print (type(x))\n",
    "print (type('Me'))"
   ]
  },
  {
   "cell_type": "code",
   "execution_count": 5,
   "metadata": {
    "collapsed": false
   },
   "outputs": [
    {
     "name": "stdout",
     "output_type": "stream",
     "text": [
      "97\n",
      "A\n"
     ]
    }
   ],
   "source": [
    "# convert character to ascii int\n",
    "print (ord('a'))\n",
    "# convert int to ascii char\n",
    "print (chr(65))"
   ]
  },
  {
   "cell_type": "code",
   "execution_count": 6,
   "metadata": {
    "collapsed": false
   },
   "outputs": [
    {
     "name": "stdout",
     "output_type": "stream",
     "text": [
      "Shamshad Alam\n"
     ]
    }
   ],
   "source": [
    "# Join string with '+'\n",
    "first_name = 'Shamshad'\n",
    "last_name = \"Alam\"\n",
    "print (first_name + ' ' + last_name)"
   ]
  },
  {
   "cell_type": "code",
   "execution_count": 7,
   "metadata": {
    "collapsed": false
   },
   "outputs": [
    {
     "data": {
      "text/plain": [
       "'\\n    use triple quote for multiline comment\\n'"
      ]
     },
     "execution_count": 7,
     "metadata": {},
     "output_type": "execute_result"
    }
   ],
   "source": [
    "# use pound '#' for comment\n",
    "'''\n",
    "    use triple quote for multiline comment\n",
    "'''"
   ]
  },
  {
   "cell_type": "code",
   "execution_count": 8,
   "metadata": {
    "collapsed": false
   },
   "outputs": [
    {
     "ename": "NameError",
     "evalue": "name 'r' is not defined",
     "output_type": "error",
     "traceback": [
      "\u001b[0;31m---------------------------------------------------------------------------\u001b[0m",
      "\u001b[0;31mNameError\u001b[0m                                 Traceback (most recent call last)",
      "\u001b[0;32m<ipython-input-8-3c09506364e3>\u001b[0m in \u001b[0;36m<module>\u001b[0;34m()\u001b[0m\n\u001b[1;32m      1\u001b[0m \u001b[0;31m# gives name error for undefined variable\u001b[0m\u001b[0;34m\u001b[0m\u001b[0;34m\u001b[0m\u001b[0m\n\u001b[0;32m----> 2\u001b[0;31m \u001b[0mprint\u001b[0m\u001b[0;34m(\u001b[0m\u001b[0mr\u001b[0m\u001b[0;34m)\u001b[0m\u001b[0;34m\u001b[0m\u001b[0m\n\u001b[0m",
      "\u001b[0;31mNameError\u001b[0m: name 'r' is not defined"
     ]
    }
   ],
   "source": [
    "# gives name error for undefined variable\n",
    "print(r)"
   ]
  },
  {
   "cell_type": "code",
   "execution_count": 9,
   "metadata": {
    "collapsed": false
   },
   "outputs": [
    {
     "name": "stdout",
     "output_type": "stream",
     "text": [
      "Three\n"
     ]
    }
   ],
   "source": [
    "# if statement\n",
    "number = 3\n",
    "if number == 3:\n",
    "    print (\"Three\")\n",
    "elif number == 5:\n",
    "    print (\"Five\")\n",
    "else:\n",
    "    print (\"Unknown\")"
   ]
  },
  {
   "cell_type": "code",
   "execution_count": 10,
   "metadata": {
    "collapsed": false
   },
   "outputs": [
    {
     "name": "stdout",
     "output_type": "stream",
     "text": [
      "True\n"
     ]
    }
   ],
   "source": [
    "# single line if statement\n",
    "number = 7\n",
    "is_odd = True if number % 2 != 0 else False\n",
    "print(is_odd)"
   ]
  },
  {
   "cell_type": "code",
   "execution_count": 11,
   "metadata": {
    "collapsed": false
   },
   "outputs": [
    {
     "name": "stdout",
     "output_type": "stream",
     "text": [
      "1\n",
      "2\n",
      "3\n",
      "4\n",
      "5\n"
     ]
    }
   ],
   "source": [
    "# For loop\n",
    "for i in range(5):\n",
    "    print(i + 1)"
   ]
  },
  {
   "cell_type": "code",
   "execution_count": 12,
   "metadata": {
    "collapsed": false
   },
   "outputs": [
    {
     "name": "stdout",
     "output_type": "stream",
     "text": [
      "[5, 10, 15, 20, 25, 30, 35, 40, 45, 50]\n"
     ]
    }
   ],
   "source": [
    "# single line for loop\n",
    "table_five = [5 * (i + 1) for i in range (10)]\n",
    "print(table_five)"
   ]
  },
  {
   "cell_type": "markdown",
   "metadata": {},
   "source": [
    "### All About Array (AAA)"
   ]
  },
  {
   "cell_type": "code",
   "execution_count": 13,
   "metadata": {
    "collapsed": false
   },
   "outputs": [
    {
     "name": "stdout",
     "output_type": "stream",
     "text": [
      "[]\n",
      "[10]\n",
      "[1, 2, 3, 4, 5, 6, 7, 8, 9, 10]\n",
      "5\n",
      "6\n",
      "[3, 4, 5, 6]\n",
      "[4, 5, 6, 7, 8, 9, 10]\n",
      "[1, 2, 3, 4, 5, 6]\n",
      "[1, 2, 3, 4, 5, 6, 7, 8, 9, 10] [1, 2, 3, 4, 7, 6]\n",
      "[1, 2, 3, 4, 5, 6, 7, 8, 9, 10, 1, 2, 3, 4, 7, 6]\n",
      "<class 'list'>\n",
      "2\n",
      "9\n",
      "10\n"
     ]
    }
   ],
   "source": [
    "# create empty array\n",
    "array = [] \n",
    "print (array)\n",
    "\n",
    "# add 10 two end of the array\n",
    "array.append(10)\n",
    "print(array)\n",
    "\n",
    "# create an array of 10 element\n",
    "array = [i + 1 for i in range(10)]\n",
    "print (array)\n",
    "\n",
    "# print fifth element\n",
    "print (array[4])\n",
    "\n",
    "# index can be negative\n",
    "# print fifth element from the right\n",
    "print (array[-5])\n",
    "\n",
    "# slicing array\n",
    "# take all elements from 3rd(including) to 7th(excluding) index\n",
    "sub_array = array[2:6]\n",
    "print(sub_array)\n",
    "\n",
    "# take elements from 4th position to the end\n",
    "sub_array = array[3:]\n",
    "print (sub_array)\n",
    "\n",
    "# take all element from beginning to a certain index\n",
    "sub_array = array[:6]\n",
    "print (sub_array)\n",
    "\n",
    "# when we modify sliced array original array remain the same\n",
    "sub_array[4] = 7\n",
    "print (array, sub_array)\n",
    "\n",
    "# join two array\n",
    "joint_array = array + sub_array\n",
    "print(joint_array)\n",
    "\n",
    "# array in python is a class object of type list\n",
    "print (type(array))\n",
    "\n",
    "# count particular value in array\n",
    "print (joint_array.count(6))\n",
    "\n",
    "# search particular value in array\n",
    "print (joint_array.index(10))\n",
    "\n",
    "# it will give you value not present error\n",
    "# print (joint_array.index(-1))\n",
    "\n",
    "# start start from second element in the list\n",
    "print (joint_array.index(1, 1))"
   ]
  },
  {
   "cell_type": "markdown",
   "metadata": {},
   "source": [
    "### Flexibility in Function (FIF)"
   ]
  },
  {
   "cell_type": "code",
   "execution_count": 14,
   "metadata": {
    "collapsed": false
   },
   "outputs": [
    {
     "name": "stdout",
     "output_type": "stream",
     "text": [
      "50\n",
      "Hello World!\n",
      "15.100000000000001\n",
      "30\n"
     ]
    }
   ],
   "source": [
    "# start with fixed key word 'def'\n",
    "# followed by name and parameter list\n",
    "# end with colon\n",
    "# body is indented\n",
    "# return type is not requred\n",
    "def do_sum(a, b):\n",
    "    return a + b\n",
    "\n",
    "# call function\n",
    "print (do_sum(10, 40))\n",
    "\n",
    "# you can use string too\n",
    "print (do_sum(\"Hello\", \" World!\"))\n",
    "\n",
    "# or u can use float\n",
    "print (do_sum(10.4, 4.7))\n",
    "\n",
    "# we can switch the order by specifying name\n",
    "print (do_sum(b=20, a=10))\n",
    "\n",
    "# What if we use mix of string and integer"
   ]
  },
  {
   "cell_type": "code",
   "execution_count": 15,
   "metadata": {
    "collapsed": false
   },
   "outputs": [
    {
     "name": "stdout",
     "output_type": "stream",
     "text": [
      "First name matched\n",
      "Last name matched\n",
      "True\n",
      "False\n"
     ]
    }
   ],
   "source": [
    "# Default value of parameter in function\n",
    "def query(first_name=None, last_name=None):\n",
    "    first_names = [\"Shamshad\", \"Amit\", \"Anil\", \"Anik\", \"Anish\", \"Alka\", \"Astha\"]\n",
    "    last_names = [\"Alam\", \"Kumar\", \"Jha\", \"Meena\", \"Gupta\", \"Singhal\"]\n",
    "    return (first_name in first_names) or (last_name in last_names)\n",
    "\n",
    "first_name = \"Shamshad\"\n",
    "last_name = \"Alam\"\n",
    "\n",
    "if query(first_name=\"Shamshad\"):\n",
    "    print (\"First name matched\")\n",
    "\n",
    "if query(last_name=\"Alam\"):\n",
    "    print (\"Last name matched\")\n",
    "\n",
    "# for named parameter order doesn't matter\n",
    "print (query(last_name=last_name, first_name=first_name))\n",
    "\n",
    "# Simple call possible\n",
    "print (query(\"Alam\", \"Shamshad\"))"
   ]
  },
  {
   "cell_type": "code",
   "execution_count": 16,
   "metadata": {
    "collapsed": false
   },
   "outputs": [
    {
     "name": "stdout",
     "output_type": "stream",
     "text": [
      "30\n"
     ]
    }
   ],
   "source": [
    "# we can assign function reference to a variable \n",
    "alias_sum = do_sum\n",
    "print(alias_sum(10, 20))"
   ]
  },
  {
   "cell_type": "code",
   "execution_count": 17,
   "metadata": {
    "collapsed": true
   },
   "outputs": [],
   "source": [
    "# we can return reference of a function\n",
    "def lazy_hypo(a, b):\n",
    "    def call():\n",
    "        return pow(a * a + b * b, 0.5)\n",
    "    return call\n"
   ]
  },
  {
   "cell_type": "code",
   "execution_count": 18,
   "metadata": {
    "collapsed": false
   },
   "outputs": [
    {
     "name": "stdout",
     "output_type": "stream",
     "text": [
      "5.0\n"
     ]
    }
   ],
   "source": [
    "lhr = lazy_hypo(3.0, 4.0)\n",
    "print(lhr())"
   ]
  },
  {
   "cell_type": "markdown",
   "metadata": {
    "collapsed": true
   },
   "source": [
    "### Classes in Python"
   ]
  },
  {
   "cell_type": "code",
   "execution_count": 19,
   "metadata": {
    "collapsed": true
   },
   "outputs": [],
   "source": [
    "# HelloWorld inherits object class\n",
    "class HelloWorld(object):\n",
    "    # constructor\n",
    "    def __init__(self, name):\n",
    "        self.name = name\n",
    "        \n",
    "    # instance method\n",
    "    def greet(self):\n",
    "        print('Hello ' + self.name + '!')\n",
    "    \n",
    "    # string representation\n",
    "    def __str__(self):\n",
    "        return self.name\n",
    "    \n",
    "    # object represention\n",
    "    def __repr__(self):\n",
    "        return '<HelloWorld: ' + self.name + '>'"
   ]
  },
  {
   "cell_type": "code",
   "execution_count": 20,
   "metadata": {
    "collapsed": false
   },
   "outputs": [
    {
     "name": "stdout",
     "output_type": "stream",
     "text": [
      "Hello Shamshad!\n",
      "Shamshad\n",
      "<HelloWorld: Shamshad>\n"
     ]
    }
   ],
   "source": [
    "hello = HelloWorld(\"Shamshad\")\n",
    "hello.greet()\n",
    "print ('%s\\n%r' % (hello, hello))"
   ]
  },
  {
   "cell_type": "code",
   "execution_count": 21,
   "metadata": {
    "collapsed": false
   },
   "outputs": [
    {
     "name": "stdout",
     "output_type": "stream",
     "text": [
      "Hey Everyone!\n",
      "Greeting from protected method!\n",
      "Total 1 request made so far!\n",
      "Total 2 request made so far!\n",
      "Hello World!\n"
     ]
    }
   ],
   "source": [
    "class ScopeDemo(object):\n",
    "    def __init__(self):\n",
    "        pass\n",
    "    \n",
    "    # private method. Notice __ at the beginning of method name\n",
    "    def __greet_personally(self):\n",
    "        print ('Greeting personally')\n",
    "    \n",
    "    # protected method. Notice _ at the beginning of method name\n",
    "    def _greet(self):\n",
    "        print ('Greeting from protected method!')\n",
    "    \n",
    "    # public method\n",
    "    def greet(self):\n",
    "        print ('Hey Everyone!')\n",
    "    \n",
    "    @classmethod\n",
    "    def request(cls):\n",
    "        if (getattr(cls, 'request_count', None) == None):\n",
    "            cls.request_count = 0\n",
    "        cls.request_count += 1\n",
    "        print ('Total %d request made so far!' % cls.request_count)\n",
    "    @staticmethod\n",
    "    def greet_all():\n",
    "        print ('Hello World!')\n",
    "\n",
    "obj1 = ScopeDemo()\n",
    "obj1.greet()\n",
    "obj1._greet()\n",
    "# obj1.__greet() # will cause error\n",
    "obj2 = ScopeDemo()\n",
    "obj2.request()\n",
    "obj1.request()\n",
    "ScopeDemo.greet_all()"
   ]
  },
  {
   "cell_type": "markdown",
   "metadata": {},
   "source": [
    "### Dictionary"
   ]
  },
  {
   "cell_type": "code",
   "execution_count": 22,
   "metadata": {
    "collapsed": false
   },
   "outputs": [
    {
     "name": "stdout",
     "output_type": "stream",
     "text": [
      "name is member of data\n",
      "{'passion': 'Sleep', 'name': 'Alam'}\n",
      "{'passion': 'Sleep'}\n"
     ]
    }
   ],
   "source": [
    "# create dictionary with empty element\n",
    "data = {}\n",
    "# add element in dictionary\n",
    "data['name'] = 'shamshad'\n",
    "\n",
    "# check for membership\n",
    "if 'name' in data:\n",
    "    print ('name is member of data')\n",
    "\n",
    "# creating a new dictionary with some initial data\n",
    "# In case of same key appear multiple time during initialization\n",
    "# the value of key which appear at the end would be considered\n",
    "new_data = {'name' : \"Shamshad\", \"passion\" : \"Sleep\", \"name\" : \"Alam\"}\n",
    "print (new_data)\n",
    "\n",
    "# remove key\n",
    "new_data.pop('name')\n",
    "print (new_data)"
   ]
  },
  {
   "cell_type": "code",
   "execution_count": 23,
   "metadata": {
    "collapsed": false
   },
   "outputs": [
    {
     "name": "stdout",
     "output_type": "stream",
     "text": [
      "1/2\n",
      "7/6\n"
     ]
    }
   ],
   "source": [
    "# operator overloading\n",
    "# __add__ +\n",
    "# __mul__ * \n",
    "# __str__ str() and so on\n",
    "class frac(object):\n",
    "    def __init__(self, n, d):\n",
    "        self.n = n\n",
    "        self.d = d\n",
    "    \n",
    "    def reduced(self):\n",
    "        (a, b) = (self.n, self.d)\n",
    "        while(b != 0):\n",
    "            (a, b) = (b, a % b)\n",
    "        self.n //= a\n",
    "        self.d //= a\n",
    "        return self\n",
    "    def __add__(self, right):\n",
    "        return frac(self.n * right.d + self.d * right.n, self.d * right.d).reduced()\n",
    "    \n",
    "    def __radd__(self, other):\n",
    "        return self + other\n",
    "    \n",
    "    def __str__(self):\n",
    "        return str(self.n) + \"/\" + str(self.d)\n",
    "f = frac(4, 8)\n",
    "g = frac(2, 3)\n",
    "print (f.reduced())\n",
    "print (f + g)"
   ]
  },
  {
   "cell_type": "markdown",
   "metadata": {
    "collapsed": true
   },
   "source": [
    "### Error Handling "
   ]
  },
  {
   "cell_type": "code",
   "execution_count": 24,
   "metadata": {
    "collapsed": false
   },
   "outputs": [
    {
     "name": "stdout",
     "output_type": "stream",
     "text": [
      "Internal error occurred\n",
      "Key not found\n",
      "0.5\n",
      "Divide By Zero Error\n",
      "division by zero\n",
      "---Done with try catch---\n"
     ]
    }
   ],
   "source": [
    "try:\n",
    "    data = {'name' : 'shamshad', 'passion' : 'sleep'}\n",
    "    # key is not in the data\n",
    "    print (data['work'])\n",
    "except:\n",
    "    print('Internal error occurred')\n",
    "\n",
    "try:\n",
    "    data = {'name' : 'shamshad', 'passion' : 'sleep'}\n",
    "    print (data['work'])\n",
    "except KeyError: # Catch specific error\n",
    "    print ('Key not found')\n",
    "\n",
    "# throwing exception\n",
    "def divide(a, b):\n",
    "    if b == 0:\n",
    "        raise Exception('Divide By Zero Error')\n",
    "    return a / b\n",
    "try:\n",
    "    print (divide(1, 2))\n",
    "    print (divide(1, 0))\n",
    "except Exception as ex:\n",
    "    # handling exceptions with parameter \n",
    "    print (ex)\n",
    "\n",
    "#Handling Multiple Error\n",
    "try:\n",
    "    print (1/0)\n",
    "except (ValueError, NameError, ZeroDivisionError) as ex:\n",
    "    print(ex)\n",
    "finally:\n",
    "    print('---Done with try catch---')"
   ]
  },
  {
   "cell_type": "markdown",
   "metadata": {},
   "source": [
    "### With statement"
   ]
  },
  {
   "cell_type": "code",
   "execution_count": 25,
   "metadata": {
    "collapsed": false
   },
   "outputs": [
    {
     "name": "stdout",
     "output_type": "stream",
     "text": [
      "Hello cruel world!\n",
      "I am here because of you all!\n",
      "\n"
     ]
    }
   ],
   "source": [
    "with open('data.txt') as input_file:\n",
    "    print (input_file.read())"
   ]
  },
  {
   "cell_type": "code",
   "execution_count": 26,
   "metadata": {
    "collapsed": false
   },
   "outputs": [
    {
     "name": "stdout",
     "output_type": "stream",
     "text": [
      "Running\n",
      "Finished\n",
      "---------\n",
      "Init\n",
      "Running\n",
      "Finished\n",
      "---------\n",
      "Running\n",
      "Finished\n"
     ]
    }
   ],
   "source": [
    "class WithExample(object):\n",
    "    def __init__(self, task_name = 'sample task'):\n",
    "        self.__status = \"Init\"\n",
    "        self.task = task_name\n",
    "    \n",
    "    def __enter__(self):\n",
    "        self.__status = \"Running\"\n",
    "        return self\n",
    "    \n",
    "    def __exit__(self, exc_type, exc_val, exc_tb):\n",
    "        self.__status = \"Finished\"\n",
    "    def status(self):\n",
    "        return self.__status\n",
    "    \n",
    "with WithExample() as example:\n",
    "    print (example.status())\n",
    "print(example.status())\n",
    "\n",
    "print ('---------')\n",
    "obj = WithExample('Test Task')\n",
    "print (obj.status())\n",
    "with obj:\n",
    "    print (obj.status())\n",
    "print (obj.status())\n",
    "print ('---------')\n",
    "with obj:\n",
    "    print (obj.status())\n",
    "print (obj.status())"
   ]
  },
  {
   "cell_type": "markdown",
   "metadata": {},
   "source": [
    "### Regex"
   ]
  },
  {
   "cell_type": "code",
   "execution_count": 27,
   "metadata": {
    "collapsed": false
   },
   "outputs": [
    {
     "name": "stdout",
     "output_type": "stream",
     "text": [
      "223 is an integer\n",
      "- is not an integer\n",
      "232e is not an integer\n",
      "2323dew232 is not an integer\n",
      "wew223 is not an integer\n",
      "-232 is an integer\n",
      "werewr is not an integer\n"
     ]
    }
   ],
   "source": [
    "import re\n",
    "integer_tester = re.compile('^-?\\d+$')\n",
    "inputs = ['223', '-', '232e', '2323dew232', 'wew223', '-232', 'werewr']\n",
    "for case in inputs:\n",
    "    if integer_tester.match(case):\n",
    "        print ('%s is an integer' % case)\n",
    "    else:\n",
    "        print ('%s is not an integer' % case)"
   ]
  },
  {
   "cell_type": "markdown",
   "metadata": {
    "collapsed": true
   },
   "source": [
    "### Builtin Functions"
   ]
  },
  {
   "cell_type": "code",
   "execution_count": 28,
   "metadata": {
    "collapsed": false
   },
   "outputs": [
    {
     "name": "stdout",
     "output_type": "stream",
     "text": [
      "sum = 31\n",
      "max = 6\n",
      "min = 2\n",
      "size = 8\n",
      "squares = [4, 9, 16, 25, 36, 9, 9, 25]\n",
      "yes\n",
      "[2, 3, 3, 3, 4, 5, 5, 6]\n",
      "[5, 3, 3, 6, 5, 4, 3, 2]\n"
     ]
    }
   ],
   "source": [
    "array = [2, 3, 4, 5, 6, 3 , 3, 5]\n",
    "print (\"sum = %d\" % sum(array))\n",
    "print (\"max = %d\" % max(array))\n",
    "print (\"min = %d\" % min(array))\n",
    "print (\"size = %d\" % len(array))\n",
    "print (\"squares = %s\" % list(map(lambda x: x * x, array)))\n",
    "\n",
    "class Attr(object):\n",
    "    def __init__(self):\n",
    "        pass\n",
    "obj = Attr()\n",
    "setattr(obj, 'clean', 'yes')\n",
    "print(getattr(obj, 'clean'))\n",
    "if hasattr(obj, 'running'):\n",
    "    print ('Object has an attribute \"running\"')\n",
    "\n",
    "sort = list(sorted(array))\n",
    "reverse = list(reversed(array))\n",
    "print(sort)\n",
    "print(reverse)\n"
   ]
  },
  {
   "cell_type": "markdown",
   "metadata": {},
   "source": [
    "#### Yield"
   ]
  },
  {
   "cell_type": "code",
   "execution_count": 29,
   "metadata": {
    "collapsed": false
   },
   "outputs": [
    {
     "name": "stdout",
     "output_type": "stream",
     "text": [
      "[4, 6, 2, 10]\n"
     ]
    }
   ],
   "source": [
    "def yield_even(data):\n",
    "    for r in data:\n",
    "        if r % 2 == 0:\n",
    "            yield r\n",
    "print (list(yield_even([3, 4, 5, 6, 2, 11, 10])))"
   ]
  },
  {
   "cell_type": "markdown",
   "metadata": {
    "collapsed": true
   },
   "source": [
    "### Behavior of 'and' and 'or'"
   ]
  },
  {
   "cell_type": "code",
   "execution_count": 30,
   "metadata": {
    "collapsed": false
   },
   "outputs": [
    {
     "name": "stdout",
     "output_type": "stream",
     "text": [
      "10\n",
      "[]\n"
     ]
    }
   ],
   "source": [
    "# When list of values is separated by or the first value which evaluate \n",
    "# to true in python or the last value in the expression would be result of the \n",
    "# expression when it is evaluated\n",
    "A = [] or False or None or 10 or 20\n",
    "# When list of values is separated by and the first value which evaluate to \n",
    "# False or the last value in the expression would be result of expression \n",
    "# when it is evaluated,  \n",
    "B = 20 and 10 and [] and 5 and None and 40\n",
    "print (A)\n",
    "print (B)"
   ]
  },
  {
   "cell_type": "code",
   "execution_count": null,
   "metadata": {
    "collapsed": true
   },
   "outputs": [],
   "source": []
  }
 ],
 "metadata": {
  "kernelspec": {
   "display_name": "Python 3",
   "language": "python",
   "name": "python3"
  },
  "language_info": {
   "codemirror_mode": {
    "name": "ipython",
    "version": 3
   },
   "file_extension": ".py",
   "mimetype": "text/x-python",
   "name": "python",
   "nbconvert_exporter": "python",
   "pygments_lexer": "ipython3",
   "version": "3.5.1"
  }
 },
 "nbformat": 4,
 "nbformat_minor": 0
}
