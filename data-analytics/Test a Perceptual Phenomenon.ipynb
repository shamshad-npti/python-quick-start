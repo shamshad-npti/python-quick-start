{
 "cells": [
  {
   "cell_type": "markdown",
   "metadata": {},
   "source": [
    "### Stroop Task\n",
    "\n",
    "\n",
    "#### Question 1\n",
    "**Independed Variables**\n",
    "* Two different conditions – \n",
    " * **Congruent**\n",
    " * **Incongruent**\n",
    "\n",
    "**Dependent Variables**\n",
    "* Time taken to say out loud the color of the ink in which the word is printed for each condition\n",
    "\n",
    "#### Question 2\n",
    "__Hypothesis__\n",
    "* **Null Hypothesis $ H_0 $:**\n",
    "  There is no difference in time for both conditions. \n",
    "  $ i.e. \\mu_c = \\mu_i $ where $ \\mu_c $ and $ \\mu_i $ are means of **congruence** and **incongruence** conditions respectively\n",
    "* **Alternative Hypothesis $ H_a $:**\n",
    "  They are significantly different $ i.e. \\mu_i \\ne \\mu_c $\n",
    "\n",
    "* **Type of Test:** _Dependent sample t-test_\n",
    "* **Justification for the Test:** Dependent sample t-test is chosen because:\n",
    " * Sample size is less than 30\n",
    " * Population standard deviation is unknown\n",
    " * It is assumed that the underlying distribution is Gaussian\n",
    " * There is a categorical variable with only two groups – congruence and incongruence condtion\n",
    " * Same participants are tested more than once\n"
   ]
  },
  {
   "cell_type": "code",
   "execution_count": 1,
   "metadata": {
    "collapsed": false
   },
   "outputs": [
    {
     "name": "stdout",
     "output_type": "stream",
     "text": [
      "Populating the interactive namespace from numpy and matplotlib\n"
     ]
    }
   ],
   "source": [
    "import warnings\n",
    "warnings.filterwarnings('ignore')\n",
    "\n",
    "import pandas as pd\n",
    "import numpy as np\n",
    "import scipy.stats as stats\n",
    "from matplotlib import pylab, pyplot\n",
    "%pylab inline\n",
    "from IPython.display import display\n",
    "from IPython.display import display_markdown"
   ]
  },
  {
   "cell_type": "code",
   "execution_count": 2,
   "metadata": {
    "collapsed": false
   },
   "outputs": [
    {
     "data": {
      "text/html": [
       "<div>\n",
       "<table border=\"1\" class=\"dataframe\">\n",
       "  <thead>\n",
       "    <tr style=\"text-align: right;\">\n",
       "      <th></th>\n",
       "      <th>Congruent</th>\n",
       "      <th>Incongruent</th>\n",
       "    </tr>\n",
       "  </thead>\n",
       "  <tbody>\n",
       "    <tr>\n",
       "      <th>0</th>\n",
       "      <td>12.079</td>\n",
       "      <td>19.278</td>\n",
       "    </tr>\n",
       "    <tr>\n",
       "      <th>1</th>\n",
       "      <td>16.791</td>\n",
       "      <td>18.741</td>\n",
       "    </tr>\n",
       "    <tr>\n",
       "      <th>2</th>\n",
       "      <td>9.564</td>\n",
       "      <td>21.214</td>\n",
       "    </tr>\n",
       "  </tbody>\n",
       "</table>\n",
       "</div>"
      ],
      "text/plain": [
       "   Congruent  Incongruent\n",
       "0     12.079       19.278\n",
       "1     16.791       18.741\n",
       "2      9.564       21.214"
      ]
     },
     "metadata": {},
     "output_type": "display_data"
    },
    {
     "data": {
      "text/markdown": [
       "**Sample mean**"
      ]
     },
     "metadata": {},
     "output_type": "display_data"
    },
    {
     "data": {
      "text/markdown": [
       "$\\mu_c = 14.05$, $\\mu_i = 22.02$"
      ]
     },
     "metadata": {},
     "output_type": "display_data"
    },
    {
     "data": {
      "text/markdown": [
       "**Sample std**"
      ]
     },
     "metadata": {},
     "output_type": "display_data"
    },
    {
     "data": {
      "text/markdown": [
       "$S_c = 3.56$, $S_i = 4.80$"
      ]
     },
     "metadata": {},
     "output_type": "display_data"
    }
   ],
   "source": [
    "data = pd.read_csv(\"stroopdata.csv\")\n",
    "display(data.head(3))\n",
    "\n",
    "data_mean = data.mean()\n",
    "data_std = data.std()\n",
    "N = data.Congruent.size\n",
    "mu_c = data_mean[\"Congruent\"]\n",
    "mu_i = data_mean[\"Incongruent\"]\n",
    "s_c = data_std[\"Congruent\"]\n",
    "s_i = data_std[\"Incongruent\"]\n",
    "display_markdown('**Sample mean**', raw=True)\n",
    "display_markdown((\"$\\\\mu_c = %0.2f$, $\\\\mu_i = %0.02f$\" % (mu_c, mu_i)), raw=True)\n",
    "display_markdown(\"**Sample std**\", raw=True)\n",
    "display_markdown((\"$S_c = %0.2f$, $S_i = %0.02f$\" % (s_c, s_i)), raw=True)"
   ]
  },
  {
   "cell_type": "code",
   "execution_count": 3,
   "metadata": {
    "collapsed": false,
    "scrolled": false
   },
   "outputs": [
    {
     "data": {
      "image/png": "[encoded data removed]",
      "text/plain": [
       "<matplotlib.figure.Figure at 0x1047934d0>"
      ]
     },
     "metadata": {},
     "output_type": "display_data"
    }
   ],
   "source": [
    "incong_samples = np.arange(mu_i - 3 * s_i, mu_i + 3 * s_i, 0.01)\n",
    "cong_samples = np.arange(mu_c - 3 * s_c, mu_c + 3 * s_c, 0.01)\n",
    "data.Incongruent.plot(kind=\"hist\", normed=True, legend=True)\n",
    "data.Congruent.plot(kind=\"hist\", normed=True, legend=True)\n",
    "pylab.plot(incong_samples, stats.norm.pdf(incong_samples, mu_i, s_i))\n",
    "pylab.plot(cong_samples, stats.norm.pdf(cong_samples, mu_c, s_c))\n",
    "_ = pylab.plt.xlabel(\"Time (Second)\")"
   ]
  },
  {
   "cell_type": "code",
   "execution_count": 4,
   "metadata": {
    "collapsed": false
   },
   "outputs": [
    {
     "data": {
      "image/png": "[encoded data removed]",
      "text/plain": [
       "<matplotlib.figure.Figure at 0x107fd31d0>"
      ]
     },
     "metadata": {},
     "output_type": "display_data"
    }
   ],
   "source": [
    "_ = data.boxplot()"
   ]
  },
  {
   "cell_type": "code",
   "execution_count": 5,
   "metadata": {
    "collapsed": false
   },
   "outputs": [
    {
     "data": {
      "image/png": "[encoded data removed]",
      "text/plain": [
       "<matplotlib.figure.Figure at 0x1083ce910>"
      ]
     },
     "metadata": {},
     "output_type": "display_data"
    }
   ],
   "source": [
    "_ = data.boxplot(showfliers=False)"
   ]
  },
  {
   "cell_type": "markdown",
   "metadata": {},
   "source": [
    "** Observation **\n",
    "* From the box plots it is clear that for congruent case about $ 50\\% $ of the data points lie between $ 12 $ and $ 16 $ but for the other case they lie between $ 18 $ and $ 24 $. \n",
    "\n",
    "* There are few outliers in incongruence data set "
   ]
  },
  {
   "cell_type": "markdown",
   "metadata": {},
   "source": [
    "---\n",
    "__Dependent sample t-test__\n",
    "---"
   ]
  },
  {
   "cell_type": "code",
   "execution_count": 6,
   "metadata": {
    "collapsed": false
   },
   "outputs": [
    {
     "data": {
      "text/markdown": [
       "**$ t-statistics=-8.02 $**"
      ]
     },
     "metadata": {},
     "output_type": "display_data"
    }
   ],
   "source": [
    "# manual calculation\n",
    "delta = data.Congruent - data.Incongruent\n",
    "x_d = delta.mean()\n",
    "var = delta.var()\n",
    "se = np.sqrt(var/delta.size)\n",
    "\n",
    "t = x_d / se\n",
    "\n",
    "display_markdown(\"**$ t-statistics=%0.2f $**\" % t, raw=True)"
   ]
  },
  {
   "cell_type": "markdown",
   "metadata": {},
   "source": [
    "### Decision\n",
    "Since $ t-critical = -2.807 $ for two-tailed $ \\alpha < 0.01 $ with degree of freedom $ 23 $ is greater than $ t-statistics $, $ H_0 $ is rejected and there is a significant difference between congruent and incongruent conditions"
   ]
  },
  {
   "cell_type": "code",
   "execution_count": 7,
   "metadata": {
    "collapsed": false
   },
   "outputs": [
    {
     "data": {
      "text/markdown": [
       "$ t{-}statistics=8.02 $"
      ]
     },
     "metadata": {},
     "output_type": "display_data"
    },
    {
     "data": {
      "text/markdown": [
       "$ p{-}value=4.10E-08 $"
      ]
     },
     "metadata": {},
     "output_type": "display_data"
    }
   ],
   "source": [
    "# with scipy\n",
    "(t, p_val) = stats.ttest_rel(data.Incongruent, data.Congruent)\n",
    "display_markdown(\"$ t{-}statistics=%0.2f $\" % (t), raw=True)\n",
    "display_markdown(\"$ p{-}value=%0.2E $\" % (p_val), raw=True)"
   ]
  },
  {
   "cell_type": "markdown",
   "metadata": {},
   "source": [
    "** Question 6 **\n",
    "\n",
    "It could be interesting to see that what happened if participants are unfamiliar with the language and they are exposed to same experiment. Intuitively, since participant could not start recognizing words before the colors in which a word is printed. There should not be difference in Congruent, and Incongruent cases."
   ]
  }
 ],
 "metadata": {
  "kernelspec": {
   "display_name": "Python 2",
   "language": "python",
   "name": "python2"
  },
  "language_info": {
   "codemirror_mode": {
    "name": "ipython",
    "version": 2
   },
   "file_extension": ".py",
   "mimetype": "text/x-python",
   "name": "python",
   "nbconvert_exporter": "python",
   "pygments_lexer": "ipython2",
   "version": "2.7.11"
  }
 },
 "nbformat": 4,
 "nbformat_minor": 1
}
