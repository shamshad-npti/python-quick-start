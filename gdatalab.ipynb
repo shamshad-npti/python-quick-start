{
 "cells": [
  {
   "cell_type": "code",
   "execution_count": 12,
   "metadata": {
    "collapsed": false
   },
   "outputs": [
    {
     "name": "stdout",
     "output_type": "stream",
     "text": [
      "The datalab.kernel extension is already loaded. To reload it, use:\n",
      "  %reload_ext datalab.kernel\n"
     ]
    }
   ],
   "source": [
    "import datalab\n",
    "%load_ext datalab.kernel\n",
    "set_datalab_project_id('dl-general-work')"
   ]
  },
  {
   "cell_type": "code",
   "execution_count": 27,
   "metadata": {
    "collapsed": true
   },
   "outputs": [],
   "source": [
    "import matplotlib\n",
    "%matplotlib inline"
   ]
  },
  {
   "cell_type": "code",
   "execution_count": 28,
   "metadata": {
    "collapsed": false,
    "scrolled": true
   },
   "outputs": [
    {
     "data": {
      "text/html": [
       "<ul><li>dl-general-work:Temp</li><li>dl-general-work:cbartens</li><li>dl-general-work:dl_canon_sample</li><li>dl-general-work:jotrzasek</li><li>dl-general-work:ksaagar</li><li>dl-general-work:salam</li></ul>"
      ],
      "text/plain": [
       "<IPython.core.display.HTML object>"
      ]
     },
     "execution_count": 28,
     "metadata": {},
     "output_type": "execute_result"
    }
   ],
   "source": [
    "%bigquery datasets"
   ]
  },
  {
   "cell_type": "code",
   "execution_count": 29,
   "metadata": {
    "collapsed": false
   },
   "outputs": [],
   "source": [
    "%%sql -m test\n",
    "SELECT\n",
    "    COUNT(*) response,\n",
    "    survey\n",
    "FROM\n",
    "    [salam.client_data]\n",
    "GROUP EACH BY\n",
    "    survey\n",
    "ORDER BY\n",
    "    response DESC\n",
    "LIMIT\n",
    "    10"
   ]
  },
  {
   "cell_type": "code",
   "execution_count": 31,
   "metadata": {
    "collapsed": false
   },
   "outputs": [
    {
     "data": {
      "text/html": [
       "\n",
       "    <div class=\"bqgc-container\">\n",
       "      \n",
       "      <div class=\"bqgc \" id=\"9_147733938750\">\n",
       "      </div>\n",
       "    </div>\n",
       "    <script>\n",
       "\n",
       "      require.config({\n",
       "        paths: {\n",
       "          d3: '//cdnjs.cloudflare.com/ajax/libs/d3/3.4.13/d3',\n",
       "          plotly: 'https://cdn.plot.ly/plotly-1.5.1.min.js?noext',\n",
       "          jquery: '//ajax.googleapis.com/ajax/libs/jquery/2.0.0/jquery.min'\n",
       "        },\n",
       "        map: {\n",
       "          '*': {\n",
       "            datalab: 'nbextensions/gcpdatalab'\n",
       "          }\n",
       "        },\n",
       "        shim: {\n",
       "          plotly: {\n",
       "            deps: ['d3', 'jquery'],\n",
       "            exports: 'plotly'\n",
       "          }\n",
       "        }\n",
       "      });\n",
       "\n",
       "      require(['datalab/charting',\n",
       "               'datalab/element!9_147733938750',\n",
       "               'base/js/events',\n",
       "               'datalab/style!/nbextensions/gcpdatalab/charting.css'\n",
       "              ],\n",
       "        function(charts, dom, events) {\n",
       "          charts.render(\n",
       "              'gcharts',\n",
       "              dom,\n",
       "              events,\n",
       "              'bars',\n",
       "              [],\n",
       "              {\"rows\": [{\"c\": [{\"v\": \"T1\"}, {\"v\": 64853}]}, {\"c\": [{\"v\": \"T3\"}, {\"v\": 30837}]}, {\"c\": [{\"v\": \"T2\"}, {\"v\": 27029}]}, {\"c\": [{\"v\": \"T4\"}, {\"v\": 21573}]}], \"cols\": [{\"type\": \"string\", \"id\": \"survey\", \"label\": \"survey\"}, {\"type\": \"number\", \"id\": \"response\", \"label\": \"response\"}]},\n",
       "              {},\n",
       "              {\"fields\": \"survey,response\", \"source_index\": 1, \"name\": 1},\n",
       "              0,\n",
       "              4);\n",
       "          }\n",
       "        );\n",
       "    </script>\n",
       "  "
      ],
      "text/plain": [
       "<IPython.core.display.HTML object>"
      ]
     },
     "execution_count": 31,
     "metadata": {},
     "output_type": "execute_result"
    },
    {
     "data": {
      "image/png": "[encoded data removed]"
     },
     "metadata": {
      "source_id": "9_147733938750"
     },
     "output_type": "display_data"
    }
   ],
   "source": [
    "%%chart bars -d test -f survey,response"
   ]
  },
  {
   "cell_type": "code",
   "execution_count": 33,
   "metadata": {
    "collapsed": false
   },
   "outputs": [
    {
     "name": "stdout",
     "output_type": "stream",
     "text": [
      "%%chart bars: error: argument -d/--data is required\n",
      "\n"
     ]
    },
    {
     "name": "stderr",
     "output_type": "stream",
     "text": [
      "usage: %%chart bars [-h] [-f FIELDS] -d DATA\n",
      "\n",
      "optional arguments:\n",
      "  -h, --help            show this help message and exit\n",
      "  -f FIELDS, --fields FIELDS\n",
      "                        The field(s) to include in the chart\n",
      "  -d DATA, --data DATA  The name of the variable referencing the Table or\n",
      "                        Query to chart\n"
     ]
    }
   ],
   "source": [
    "%%chart bars"
   ]
  },
  {
   "cell_type": "code",
   "execution_count": null,
   "metadata": {
    "collapsed": true
   },
   "outputs": [],
   "source": []
  }
 ],
 "metadata": {
  "kernelspec": {
   "display_name": "Python 2",
   "language": "python",
   "name": "python2"
  },
  "language_info": {
   "codemirror_mode": {
    "name": "ipython",
    "version": 2
   },
   "file_extension": ".py",
   "mimetype": "text/x-python",
   "name": "python",
   "nbconvert_exporter": "python",
   "pygments_lexer": "ipython2",
   "version": "2.7.11"
  }
 },
 "nbformat": 4,
 "nbformat_minor": 0
}
