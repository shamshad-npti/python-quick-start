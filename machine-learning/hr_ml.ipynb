{
 "cells": [
  {
   "cell_type": "code",
   "execution_count": 9,
   "metadata": {
    "collapsed": true
   },
   "outputs": [],
   "source": [
    "import pandas as pd\n",
    "import numpy as np\n",
    "import matplotlib\n",
    "%matplotlib inline"
   ]
  },
  {
   "cell_type": "code",
   "execution_count": 6,
   "metadata": {
    "collapsed": true
   },
   "outputs": [],
   "source": [
    "df = pd.read_csv('trainingdata.txt', names=['charge', 'discharge'])"
   ]
  },
  {
   "cell_type": "code",
   "execution_count": 7,
   "metadata": {
    "collapsed": false
   },
   "outputs": [
    {
     "data": {
      "text/html": [
       "<div>\n",
       "<table border=\"1\" class=\"dataframe\">\n",
       "  <thead>\n",
       "    <tr style=\"text-align: right;\">\n",
       "      <th></th>\n",
       "      <th>charge</th>\n",
       "      <th>discharge</th>\n",
       "    </tr>\n",
       "  </thead>\n",
       "  <tbody>\n",
       "    <tr>\n",
       "      <th>0</th>\n",
       "      <td>2.81</td>\n",
       "      <td>5.62</td>\n",
       "    </tr>\n",
       "    <tr>\n",
       "      <th>1</th>\n",
       "      <td>7.14</td>\n",
       "      <td>8.00</td>\n",
       "    </tr>\n",
       "    <tr>\n",
       "      <th>2</th>\n",
       "      <td>2.72</td>\n",
       "      <td>5.44</td>\n",
       "    </tr>\n",
       "    <tr>\n",
       "      <th>3</th>\n",
       "      <td>3.87</td>\n",
       "      <td>7.74</td>\n",
       "    </tr>\n",
       "    <tr>\n",
       "      <th>4</th>\n",
       "      <td>1.90</td>\n",
       "      <td>3.80</td>\n",
       "    </tr>\n",
       "  </tbody>\n",
       "</table>\n",
       "</div>"
      ],
      "text/plain": [
       "   charge  discharge\n",
       "0    2.81       5.62\n",
       "1    7.14       8.00\n",
       "2    2.72       5.44\n",
       "3    3.87       7.74\n",
       "4    1.90       3.80"
      ]
     },
     "execution_count": 7,
     "metadata": {},
     "output_type": "execute_result"
    }
   ],
   "source": [
    "df.head(5)"
   ]
  },
  {
   "cell_type": "code",
   "execution_count": 10,
   "metadata": {
    "collapsed": false
   },
   "outputs": [
    {
     "data": {
      "text/plain": [
       "<matplotlib.axes._subplots.AxesSubplot at 0x110ebd090>"
      ]
     },
     "execution_count": 10,
     "metadata": {},
     "output_type": "execute_result"
    },
    {
     "data": {
      "image/png": "[encoded data removed]",
      "text/plain": [
       "<matplotlib.figure.Figure at 0x110ed0090>"
      ]
     },
     "metadata": {},
     "output_type": "display_data"
    }
   ],
   "source": [
    "df.plot.scatter(x='charge', y='discharge')"
   ]
  },
  {
   "cell_type": "code",
   "execution_count": 110,
   "metadata": {
    "collapsed": false
   },
   "outputs": [],
   "source": [
    "df['func'] = df['charge'].apply(lambda x: 8 - 8 * math.exp(-x * x/5.0))"
   ]
  },
  {
   "cell_type": "code",
   "execution_count": 111,
   "metadata": {
    "collapsed": false
   },
   "outputs": [
    {
     "data": {
      "text/plain": [
       "<matplotlib.axes._subplots.AxesSubplot at 0x11311fbd0>"
      ]
     },
     "execution_count": 111,
     "metadata": {},
     "output_type": "execute_result"
    },
    {
     "data": {
      "image/png": "[encoded data removed]",
      "text/plain": [
       "<matplotlib.figure.Figure at 0x1130d5950>"
      ]
     },
     "metadata": {},
     "output_type": "display_data"
    }
   ],
   "source": [
    "ax = df.plot.scatter(x='charge', y='discharge')\n",
    "df.plot.scatter(x='charge', y='func', ax=ax, color=\"red\")"
   ]
  },
  {
   "cell_type": "code",
   "execution_count": 112,
   "metadata": {
    "collapsed": true
   },
   "outputs": [],
   "source": [
    "df['error'] = abs(df['func'] - df['discharge'])"
   ]
  },
  {
   "cell_type": "code",
   "execution_count": 116,
   "metadata": {
    "collapsed": false
   },
   "outputs": [
    {
     "data": {
      "text/plain": [
       "0.17365079926900029"
      ]
     },
     "execution_count": 116,
     "metadata": {},
     "output_type": "execute_result"
    }
   ],
   "source": [
    "df['error'].mean()"
   ]
  },
  {
   "cell_type": "code",
   "execution_count": 147,
   "metadata": {
    "collapsed": false
   },
   "outputs": [],
   "source": [
    "lines = open('doc_trainingdata.txt', 'r').readlines()"
   ]
  },
  {
   "cell_type": "code",
   "execution_count": 186,
   "metadata": {
    "collapsed": false
   },
   "outputs": [],
   "source": [
    "from random import sample\n",
    "from math import log\n",
    "size = int(lines[0].strip())\n",
    "training_size = int(0.9 * size)\n",
    "samples = sample([i for i in range(size)], training_size)"
   ]
  },
  {
   "cell_type": "code",
   "execution_count": 185,
   "metadata": {
    "collapsed": false,
    "scrolled": true
   },
   "outputs": [
    {
     "name": "stdout",
     "output_type": "stream",
     "text": [
      "(1207, 1646)\n"
     ]
    }
   ],
   "source": [
    "docs = [[{}, 0] for i in range(8)]\n",
    "training_data = [0 for _ in xrange(size)]\n",
    "for c in samples[1:]:\n",
    "    s = lines[c].lower()\n",
    "    cat = int(s[0]) - 1\n",
    "    docs[cat][1] += 1\n",
    "    words = s[1:].strip().split(\" \")\n",
    "    for word in words:\n",
    "        word = word.strip()\n",
    "        if len(word) == 0:\n",
    "            continue\n",
    "        if word not in docs[cat][0]:\n",
    "            docs[cat][0][word] = 0\n",
    "        docs[cat][0][word] += 1\n",
    "    training_data[c] = 1\n",
    "\n",
    "total = sum(map(lambda x: x[1], docs)) + len(docs)\n",
    "for doc in docs:\n",
    "    doc[1] = (doc[1] + 1.0) / total\n",
    "    words = doc[0]\n",
    "    wordc = sum(doc[0].itervalues()) + len(doc[0])\n",
    "    for (k, v) in doc[0].iteritems():\n",
    "        doc[0][k] = (doc[0][k] + 1.0) / wordc\n",
    "    doc.append(wordc)\n",
    "correct = 0\n",
    "for i in range(size):\n",
    "    if training_data[i] == 1:\n",
    "        continue\n",
    "    s = lines[i].lower()\n",
    "    cat = int(s[0]) - 1\n",
    "    words = s[1:].strip().split(\" \")\n",
    "    prob = [0 for j in xrange(8)]\n",
    "    for ct in range(8):\n",
    "        prob[ct] = docs[ct][1]\n",
    "        for word in words:\n",
    "            word = word.strip()\n",
    "            if len(word) == 0:\n",
    "                continue\n",
    "            prob[ct] = prob[ct] * (1.0 / docs[ct][2] if word not in docs[ct][0] else docs[ct][0][word])\n",
    "    if prob.index(max(prob)) == cat:\n",
    "        correct += 1\n",
    "\n",
    "print (correct, size - len(samples))"
   ]
  },
  {
   "cell_type": "code",
   "execution_count": 347,
   "metadata": {
    "collapsed": false,
    "scrolled": false
   },
   "outputs": [
    {
     "name": "stdout",
     "output_type": "stream",
     "text": [
      "2106 2189\n"
     ]
    }
   ],
   "source": [
    "# Enter your code here. Read input from STDIN. Print output to STDOUT\n",
    "from math import log\n",
    "lines = open('doc_trainingdata.txt').readlines()\n",
    "n = int(lines[0].strip())\n",
    "words_prob = {}\n",
    "for i in xrange(n):\n",
    "    s = lines[i]\n",
    "    cat = int(s[0]) - 1\n",
    "    words = s[1:].strip().split(\" \")\n",
    "    for word in words:\n",
    "        word = word.strip()\n",
    "        if len(word) == 0:\n",
    "            continue\n",
    "        if word not in words_prob:\n",
    "            words_prob[word] = [0.13 for _ in range(8)]\n",
    "        words_prob[word][cat] += 1\n",
    "            \n",
    "docs_pd = [0 for i in xrange(8)]\n",
    "words_pd = {}\n",
    "total = 0.0\n",
    "for word in words_prob:\n",
    "    total += sum(words_prob[word])\n",
    "\n",
    "for word in words_prob:\n",
    "    prob = words_prob[word]\n",
    "    for i in xrange(8):\n",
    "        prob[i] /= total\n",
    "        docs_pd[i] += prob[i]\n",
    "    words_pd[word] = sum(prob)\n",
    "lines = open(\"testtxt.txt\").readlines()\n",
    "T = int(lines[0].strip())\n",
    "outputs = open(\"output01.txt\").readlines()\n",
    "correct = 0\n",
    "for (text, output) in zip(lines[1:], outputs):\n",
    "    words = text.strip().split(\" \")\n",
    "    prob = [1.0 for j in xrange(8)]\n",
    "    last_word = None\n",
    "    for word in words:\n",
    "        word = word.strip()\n",
    "        if len(word) == 0 or word not in words_pd:\n",
    "            continue\n",
    "        for j in xrange(8):\n",
    "            prob[j] = prob[j] * words_prob[word][j] / words_pd[word] / docs_pd[j]\n",
    "    guess = prob.index(max(prob)) + 1\n",
    "    if guess == int(output.strip()):\n",
    "        correct += 1\n",
    "print correct, len(outputs)"
   ]
  },
  {
   "cell_type": "code",
   "execution_count": 344,
   "metadata": {
    "collapsed": false
   },
   "outputs": [
    {
     "data": {
      "text/plain": [
       "0.9241662859753312"
      ]
     },
     "execution_count": 344,
     "metadata": {},
     "output_type": "execute_result"
    }
   ],
   "source": [
    "(2106 * 2 - 2189) / 2189.0"
   ]
  },
  {
   "cell_type": "code",
   "execution_count": null,
   "metadata": {
    "collapsed": true
   },
   "outputs": [],
   "source": [
    "build"
   ]
  }
 ],
 "metadata": {
  "kernelspec": {
   "display_name": "Python 2",
   "language": "python",
   "name": "python2"
  },
  "language_info": {
   "codemirror_mode": {
    "name": "ipython",
    "version": 2
   },
   "file_extension": ".py",
   "mimetype": "text/x-python",
   "name": "python",
   "nbconvert_exporter": "python",
   "pygments_lexer": "ipython2",
   "version": "2.7.11"
  }
 },
 "nbformat": 4,
 "nbformat_minor": 0
}
