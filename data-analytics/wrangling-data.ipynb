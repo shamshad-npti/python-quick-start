{
 "cells": [
  {
   "cell_type": "code",
   "execution_count": 1,
   "metadata": {
    "collapsed": false
   },
   "outputs": [],
   "source": [
    "import warnings\n",
    "warnings.filterwarnings(\"ignore\")\n",
    "import unicodecsv\n",
    "import pandas as pd\n",
    "import numpy as np\n",
    "import matplotlib\n",
    "%matplotlib inline\n",
    "from collections import defaultdict\n",
    "from datetime import datetime\n",
    "matplotlib.pylab.style.use(\"seaborn-colorblind\")"
   ]
  },
  {
   "cell_type": "code",
   "execution_count": 2,
   "metadata": {
    "collapsed": true
   },
   "outputs": [],
   "source": [
    "def read_csv(filename):\n",
    "    with open(filename, 'rb') as f:\n",
    "        return list(unicodecsv.DictReader(f))"
   ]
  },
  {
   "cell_type": "code",
   "execution_count": 3,
   "metadata": {
    "collapsed": true
   },
   "outputs": [],
   "source": [
    "enrollments_file = \"enrollments.csv\"\n",
    "daily_engagement_file = \"daily_engagement.csv\"\n",
    "project_submissions_file = \"project_submissions.csv\""
   ]
  },
  {
   "cell_type": "code",
   "execution_count": 4,
   "metadata": {
    "collapsed": true
   },
   "outputs": [],
   "source": [
    "enrollments = read_csv(enrollments_file)\n",
    "daily_engagement = read_csv(daily_engagement_file)\n",
    "project_submissions = read_csv(project_submissions_file)"
   ]
  },
  {
   "cell_type": "code",
   "execution_count": 5,
   "metadata": {
    "collapsed": true
   },
   "outputs": [],
   "source": [
    "def may_be_date(date): return None if date == '' else datetime.strptime(date, \"%Y-%m-%d\")\n",
    "def may_be_int(value): return None if value == '' else int(float(value))\n",
    "def may_be_float(value): return None if value == '' else float(value)\n",
    "def may_be_bool(value): return None if value == '' else value == 'True'"
   ]
  },
  {
   "cell_type": "code",
   "execution_count": 6,
   "metadata": {
    "collapsed": false
   },
   "outputs": [],
   "source": [
    "proc_enr = [{\n",
    "    \"account_key\": row[\"account_key\"],\n",
    "    \"cancel_date\": may_be_date(row[\"cancel_date\"]),\n",
    "    \"days_to_cancel\": may_be_int(row['days_to_cancel']),\n",
    "    \"is_canceled\": may_be_bool(row[\"is_canceled\"]),\n",
    "    \"is_udacity\": may_be_bool(row[\"is_udacity\"]),\n",
    "    \"join_date\": may_be_date(row[\"join_date\"]),\n",
    "    \"status\": row[\"status\"]\n",
    "} for row in enrollments]\n",
    "proc_eng = [{\n",
    "    \"account_key\": row[\"acct\"],\n",
    "    \"lessons_completed\": may_be_float(row[\"lessons_completed\"]),\n",
    "    \"num_courses_visited\": may_be_float(row[\"num_courses_visited\"]),\n",
    "    \"projects_completed\": may_be_float(row[\"projects_completed\"]),\n",
    "    \"total_minutes_visited\": may_be_float(row[\"total_minutes_visited\"]),\n",
    "    \"utc_date\": may_be_date(row[\"utc_date\"])\n",
    "} for row in daily_engagement]\n",
    "proc_sub = [{\n",
    "    \"account_key\": row[\"account_key\"],\n",
    "    \"assigned_rating\": row[\"assigned_rating\"],\n",
    "    \"completion_date\": may_be_date(row[\"completion_date\"]),\n",
    "    \"creation_date\": may_be_date(row[\"creation_date\"]),\n",
    "    \"lesson_key\": row[\"lesson_key\"],\n",
    "    \"processing_state\": row[\"processing_state\"]\n",
    "} for row in project_submissions]\n",
    "\n",
    "udacity_student_keys = set([row[\"account_key\"] for row in proc_enr if row['is_udacity']])\n",
    "proc_enr = filter(lambda row: row[\"account_key\"] not in udacity_student_keys, proc_enr)\n",
    "proc_eng = filter(lambda row: row[\"account_key\"] not in udacity_student_keys, proc_eng)\n",
    "proc_sub = filter(lambda row: row[\"account_key\"] not in udacity_student_keys, proc_sub)"
   ]
  },
  {
   "cell_type": "code",
   "execution_count": 7,
   "metadata": {
    "collapsed": true
   },
   "outputs": [],
   "source": [
    "paid_students_temp = filter(lambda row: row[\"days_to_cancel\"] is None or row[\"days_to_cancel\"] > 7, proc_enr)\n",
    "paid_students = dict()\n",
    "for row in paid_students_temp:\n",
    "    account, join_date = row[\"account_key\"], row[\"join_date\"]\n",
    "    if account in paid_students:\n",
    "        paid_students[account] = max(paid_students[account], join_date)\n",
    "    else:\n",
    "        paid_students[account] = join_date"
   ]
  },
  {
   "cell_type": "code",
   "execution_count": 8,
   "metadata": {
    "collapsed": false
   },
   "outputs": [
    {
     "data": {
      "text/plain": [
       "995"
      ]
     },
     "execution_count": 8,
     "metadata": {},
     "output_type": "execute_result"
    }
   ],
   "source": [
    "len(paid_students)"
   ]
  },
  {
   "cell_type": "code",
   "execution_count": 9,
   "metadata": {
    "collapsed": false
   },
   "outputs": [
    {
     "data": {
      "text/plain": [
       "6919"
      ]
     },
     "execution_count": 9,
     "metadata": {},
     "output_type": "execute_result"
    }
   ],
   "source": [
    "def filter_func(row):\n",
    "    account = row[\"account_key\"]\n",
    "    return (account in paid_students and (row[\"utc_date\"] - paid_students[account]).days < 7 \n",
    "            and (row[\"utc_date\"] - paid_students[account]).days >= 0)\n",
    "eng_paids_first_week = filter(filter_func, proc_eng)\n",
    "len(eng_paids_first_week)"
   ]
  },
  {
   "cell_type": "code",
   "execution_count": 10,
   "metadata": {
    "collapsed": false
   },
   "outputs": [],
   "source": [
    "accounts = defaultdict(list)\n",
    "account_details = defaultdict(list)\n",
    "for row in eng_paids_first_week:\n",
    "    accounts[row[\"account_key\"]].append(row[\"total_minutes_visited\"])\n",
    "    account_details[row[\"account_key\"]].append(row)"
   ]
  },
  {
   "cell_type": "code",
   "execution_count": 11,
   "metadata": {
    "collapsed": true
   },
   "outputs": [],
   "source": [
    "def print_summary(metrics, eng_paids_first_week=eng_paids_first_week, print_some=False):\n",
    "    accounts = defaultdict(list)\n",
    "    account_details = defaultdict(list)\n",
    "    for row in eng_paids_first_week:\n",
    "        accounts[row[\"account_key\"]].append(row[metrics])\n",
    "        account_details[row[\"account_key\"]].append(row)\n",
    "    accounts_summary = {key: np.sum(value) for (key, value) in accounts.iteritems()}\n",
    "    values = accounts_summary.values()\n",
    "    print (\"=====Summary of metric - %s\" % metrics)\n",
    "    print (\"Mean: %s\" % np.mean(values)) \n",
    "    print (\"Std: %s\" % np.std(values))\n",
    "    print (\"Max: %s\" % np.max(values))\n",
    "    print (\"Min: %s\" % np.min(values))\n",
    "    \n",
    "    if print_some:\n",
    "        account_list = [(value, key) for (key, value) in accounts_summary.iteritems()]\n",
    "        account_list.sort(reverse=True)\n",
    "        print account_list[0:5]\n",
    "\n",
    "        print account_details[account_list[0][1]]"
   ]
  },
  {
   "cell_type": "code",
   "execution_count": 12,
   "metadata": {
    "collapsed": false
   },
   "outputs": [
    {
     "name": "stdout",
     "output_type": "stream",
     "text": [
      "=====Summary of metric - has_visit\n",
      "Mean: 2.86733668342\n",
      "Std: 2.25519800292\n",
      "Max: 7\n",
      "Min: 0\n"
     ]
    }
   ],
   "source": [
    "for row in eng_paids_first_week:\n",
    "    row['has_visit'] = 1 if row[\"num_courses_visited\"] > 0 else 0\n",
    "print_summary(\"has_visit\", eng_paids_first_week)"
   ]
  },
  {
   "cell_type": "code",
   "execution_count": 13,
   "metadata": {
    "collapsed": false
   },
   "outputs": [
    {
     "name": "stdout",
     "output_type": "stream",
     "text": [
      "Passed=4527, Failed=2392\n"
     ]
    }
   ],
   "source": [
    "courses = ['746169184', '3176718735']\n",
    "passed_students = set([row['account_key'] for row in proc_sub\n",
    "              if row['lesson_key'] in courses and row['assigned_rating'] in ['PASSED', 'DISTINCTION']])\n",
    "eng_passed = [row for row in eng_paids_first_week if row['account_key'] in passed_students]\n",
    "eng_not_passed = [row for row in eng_paids_first_week if row['account_key'] not in passed_students]\n",
    "\n",
    "print (\"Passed=%s, Failed=%s\" % (len(eng_passed), len(eng_not_passed)))"
   ]
  },
  {
   "cell_type": "code",
   "execution_count": 14,
   "metadata": {
    "collapsed": false
   },
   "outputs": [
    {
     "name": "stdout",
     "output_type": "stream",
     "text": [
      "=====Summary of metric - total_minutes_visited\n",
      "Mean: 394.586046484\n",
      "Std: 448.499519327\n",
      "Max: 3564.7332645\n",
      "Min: 0.0\n",
      "=====Summary of metric - total_minutes_visited\n",
      "Mean: 143.326474267\n",
      "Std: 269.538619011\n",
      "Max: 1768.52274933\n",
      "Min: 0.0\n"
     ]
    }
   ],
   "source": [
    "print_summary('total_minutes_visited', eng_passed)\n",
    "print_summary('total_minutes_visited', eng_not_passed)"
   ]
  },
  {
   "cell_type": "code",
   "execution_count": 15,
   "metadata": {
    "collapsed": false,
    "scrolled": true
   },
   "outputs": [
    {
     "name": "stdout",
     "output_type": "stream",
     "text": [
      "=====Summary of metric - lessons_completed\n",
      "Mean: 2.05255023184\n",
      "Std: 3.14222705558\n",
      "Max: 36.0\n",
      "Min: 0.0\n",
      "=====Summary of metric - lessons_completed\n",
      "Mean: 0.862068965517\n",
      "Std: 2.54915994183\n",
      "Max: 27.0\n",
      "Min: 0.0\n"
     ]
    }
   ],
   "source": [
    "print_summary('lessons_completed', eng_passed)\n",
    "print_summary('lessons_completed', eng_not_passed)"
   ]
  },
  {
   "cell_type": "code",
   "execution_count": 16,
   "metadata": {
    "collapsed": false
   },
   "outputs": [
    {
     "name": "stdout",
     "output_type": "stream",
     "text": [
      "=====Summary of metric - has_visit\n",
      "Mean: 3.38485316847\n",
      "Std: 2.25882147092\n",
      "Max: 7\n",
      "Min: 0\n",
      "=====Summary of metric - has_visit\n",
      "Mean: 1.90517241379\n",
      "Std: 1.90573144136\n",
      "Max: 7\n",
      "Min: 0\n"
     ]
    }
   ],
   "source": [
    "print_summary('has_visit', eng_passed)\n",
    "print_summary('has_visit', eng_not_passed)"
   ]
  },
  {
   "cell_type": "code",
   "execution_count": 32,
   "metadata": {
    "collapsed": true
   },
   "outputs": [],
   "source": [
    "def histogram(metrics, data, bins=False):\n",
    "    accounts = defaultdict(list)\n",
    "    for row in data:\n",
    "        accounts[row[\"account_key\"]].append(row[metrics])\n",
    "    accounts_summary = {key: np.sum(value) for (key, value) in accounts.iteritems()}\n",
    "    values = accounts_summary.values()\n",
    "    if bins:\n",
    "        matplotlib.pylab.hist(values ,bins=bins)\n",
    "    else:\n",
    "        matplotlib.pylab.hist(values)\n",
    "    matplotlib.pylab.plt.title(\"Histogram of %s\" % metrics)"
   ]
  },
  {
   "cell_type": "code",
   "execution_count": 33,
   "metadata": {
    "collapsed": false
   },
   "outputs": [
    {
     "data": {
      "image/png": "[encoded data removed]",
      "text/plain": [
       "<matplotlib.figure.Figure at 0x1034adad0>"
      ]
     },
     "metadata": {},
     "output_type": "display_data"
    }
   ],
   "source": [
    "histogram('total_minutes_visited', eng_passed)"
   ]
  },
  {
   "cell_type": "code",
   "execution_count": 27,
   "metadata": {
    "collapsed": false
   },
   "outputs": [
    {
     "data": {
      "image/png": "[encoded data removed]",
      "text/plain": [
       "<matplotlib.figure.Figure at 0x10f39dad0>"
      ]
     },
     "metadata": {},
     "output_type": "display_data"
    }
   ],
   "source": [
    "histogram('total_minutes_visited', eng_not_passed)"
   ]
  },
  {
   "cell_type": "code",
   "execution_count": 28,
   "metadata": {
    "collapsed": false
   },
   "outputs": [
    {
     "data": {
      "image/png": "[encoded data removed]",
      "text/plain": [
       "<matplotlib.figure.Figure at 0x10f39d410>"
      ]
     },
     "metadata": {},
     "output_type": "display_data"
    }
   ],
   "source": [
    "histogram('lessons_completed', eng_passed)"
   ]
  },
  {
   "cell_type": "code",
   "execution_count": 29,
   "metadata": {
    "collapsed": false
   },
   "outputs": [
    {
     "data": {
      "image/png": "[encoded data removed]",
      "text/plain": [
       "<matplotlib.figure.Figure at 0x10f704c50>"
      ]
     },
     "metadata": {},
     "output_type": "display_data"
    }
   ],
   "source": [
    "histogram('lessons_completed', eng_not_passed)"
   ]
  },
  {
   "cell_type": "code",
   "execution_count": 34,
   "metadata": {
    "collapsed": false,
    "scrolled": false
   },
   "outputs": [
    {
     "data": {
      "image/png": "[encoded data removed]",
      "text/plain": [
       "<matplotlib.figure.Figure at 0x10f208d10>"
      ]
     },
     "metadata": {},
     "output_type": "display_data"
    }
   ],
   "source": [
    "histogram('has_visit', eng_passed, bins=8)"
   ]
  },
  {
   "cell_type": "code",
   "execution_count": 35,
   "metadata": {
    "collapsed": false
   },
   "outputs": [
    {
     "data": {
      "image/png": "[encoded data removed]",
      "text/plain": [
       "<matplotlib.figure.Figure at 0x10f719bd0>"
      ]
     },
     "metadata": {},
     "output_type": "display_data"
    }
   ],
   "source": [
    "histogram('has_visit', eng_not_passed, bins=8)"
   ]
  },
  {
   "cell_type": "markdown",
   "metadata": {},
   "source": [
    "```python\n",
    "# adding label \n",
    "plt.xlabel(\"text\")\n",
    "plt.ylabel(\"text\")\n",
    "plt.title(\"plot title\")\n",
    "```"
   ]
  }
 ],
 "metadata": {
  "kernelspec": {
   "display_name": "Python 2",
   "language": "python",
   "name": "python2"
  },
  "language_info": {
   "codemirror_mode": {
    "name": "ipython",
    "version": 2
   },
   "file_extension": ".py",
   "mimetype": "text/x-python",
   "name": "python",
   "nbconvert_exporter": "python",
   "pygments_lexer": "ipython2",
   "version": "2.7.11"
  }
 },
 "nbformat": 4,
 "nbformat_minor": 1
}
