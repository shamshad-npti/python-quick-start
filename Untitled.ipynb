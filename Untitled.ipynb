{
 "cells": [
  {
   "cell_type": "code",
   "execution_count": 3,
   "metadata": {
    "collapsed": true
   },
   "outputs": [],
   "source": [
    "x = \"\"\"user_id\n",
    "time\n",
    "datCookie\n",
    "_dISCO\n",
    "ssid\n",
    "sid\n",
    "c_pr\n",
    "s_id\n",
    "ca_na\n",
    "touchpoint_id\n",
    "sts_fu\n",
    "pic_s1\n",
    "pic_d1\n",
    "eo_id\n",
    "content_cat\n",
    "content_type\n",
    "sts_de\n",
    "e_ty\n",
    "p_se\n",
    "sts_vi\n",
    "e_id\n",
    "dlsource\n",
    "eg_id\n",
    "eg_na\n",
    "eg_st\n",
    "eg_la\n",
    "city\n",
    "region\n",
    "country\n",
    "user_agent\n",
    "location\n",
    "gclid\n",
    "traffic_source\n",
    "acquisition_channel\n",
    "keyword\n",
    "qid\"\"\".split(\"\\n\")\n",
    "x.sort()"
   ]
  },
  {
   "cell_type": "code",
   "execution_count": 8,
   "metadata": {
    "collapsed": true
   },
   "outputs": [],
   "source": [
    "y = \"user_id,time,datCookie,_dISCO,ssid,sid,c_pr,s_id,ca_na,touchpoint_id,sts_fu,pic_s1,pic_d1,eo_id,content_cat,content_type,sts_de,e_ty,p_se,sts_vi,e_id,dlsource,eg_id,eg_na,eg_st,eg_la,city,region,country,user_agent,location,gclid,traffic_source,acquisition_channel,keyword,qid\".split(\",\")"
   ]
  },
  {
   "cell_type": "code",
   "execution_count": 9,
   "metadata": {
    "collapsed": true
   },
   "outputs": [],
   "source": [
    "y.sort()"
   ]
  },
  {
   "cell_type": "code",
   "execution_count": 10,
   "metadata": {
    "collapsed": false
   },
   "outputs": [
    {
     "data": {
      "text/plain": [
       "True"
      ]
     },
     "execution_count": 10,
     "metadata": {},
     "output_type": "execute_result"
    }
   ],
   "source": [
    "x==y"
   ]
  },
  {
   "cell_type": "code",
   "execution_count": null,
   "metadata": {
    "collapsed": true
   },
   "outputs": [],
   "source": []
  }
 ],
 "metadata": {
  "kernelspec": {
   "display_name": "Python 2",
   "language": "python",
   "name": "python2"
  },
  "language_info": {
   "codemirror_mode": {
    "name": "ipython",
    "version": 2
   },
   "file_extension": ".py",
   "mimetype": "text/x-python",
   "name": "python",
   "nbconvert_exporter": "python",
   "pygments_lexer": "ipython2",
   "version": "2.7.11"
  }
 },
 "nbformat": 4,
 "nbformat_minor": 0
}
