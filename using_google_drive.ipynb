{
 "cells": [
  {
   "cell_type": "code",
   "execution_count": 1,
   "metadata": {
    "collapsed": true
   },
   "outputs": [],
   "source": [
    "# import all necessary modules\n",
    "from oauth2client.service_account import ServiceAccountCredentials\n",
    "import httplib2\n",
    "import os\n",
    "from apiclient import discovery\n",
    "import oauth2client\n",
    "from oauth2client import client\n",
    "from oauth2client import tools"
   ]
  },
  {
   "cell_type": "code",
   "execution_count": null,
   "metadata": {
    "collapsed": false
   },
   "outputs": [],
   "source": [
    "%ls"
   ]
  },
  {
   "cell_type": "code",
   "execution_count": 3,
   "metadata": {
    "collapsed": true
   },
   "outputs": [],
   "source": [
    "# create service account credential\n",
    "credentials = ServiceAccountCredentials.from_json_keyfile_name('key-file.json', \n",
    "                                                               scopes='https://www.googleapis.com/auth/drive')"
   ]
  },
  {
   "cell_type": "code",
   "execution_count": 4,
   "metadata": {
    "collapsed": true
   },
   "outputs": [],
   "source": [
    "# authorize client\n",
    "http = credentials.authorize(httplib2.Http())"
   ]
  },
  {
   "cell_type": "code",
   "execution_count": 5,
   "metadata": {
    "collapsed": false
   },
   "outputs": [],
   "source": [
    "# build a service object\n",
    "service = discovery.build('drive', 'v3', http=http)"
   ]
  },
  {
   "cell_type": "code",
   "execution_count": 6,
   "metadata": {
    "collapsed": false
   },
   "outputs": [],
   "source": [
    "# list all files\n",
    "data = service.files().list(fields='nextPageToken,files(name,id,kind,mimeType,parents,permissions,shared)').execute()"
   ]
  },
  {
   "cell_type": "code",
   "execution_count": 7,
   "metadata": {
    "collapsed": false
   },
   "outputs": [
    {
     "data": {
      "text/html": [
       "<div>\n",
       "<table border=\"1\" class=\"dataframe\">\n",
       "  <thead>\n",
       "    <tr style=\"text-align: right;\">\n",
       "      <th></th>\n",
       "      <th>id</th>\n",
       "      <th>kind</th>\n",
       "      <th>mimeType</th>\n",
       "      <th>name</th>\n",
       "      <th>parents</th>\n",
       "      <th>permissions</th>\n",
       "      <th>shared</th>\n",
       "    </tr>\n",
       "  </thead>\n",
       "  <tbody>\n",
       "    <tr>\n",
       "      <th>0</th>\n",
       "      <td>0B_fFUcPD3iZKZF9TajJIUno4OW8</td>\n",
       "      <td>drive#file</td>\n",
       "      <td>text/plain</td>\n",
       "      <td>data.txt</td>\n",
       "      <td>[0APfFUcPD3iZKUk9PVA]</td>\n",
       "      <td>[{u'kind': u'drive#permission', u'displayName'...</td>\n",
       "      <td>False</td>\n",
       "    </tr>\n",
       "    <tr>\n",
       "      <th>1</th>\n",
       "      <td>0B_fFUcPD3iZKRmJsaHgtOTBwVUE</td>\n",
       "      <td>drive#file</td>\n",
       "      <td>text/plain</td>\n",
       "      <td>data.txt</td>\n",
       "      <td>[0APfFUcPD3iZKUk9PVA]</td>\n",
       "      <td>[{u'kind': u'drive#permission', u'displayName'...</td>\n",
       "      <td>False</td>\n",
       "    </tr>\n",
       "    <tr>\n",
       "      <th>2</th>\n",
       "      <td>0B_fFUcPD3iZKNzgtWnlDNmp4TE0</td>\n",
       "      <td>drive#file</td>\n",
       "      <td>application/vnd.google-apps.folder</td>\n",
       "      <td>gdrive-test-folder</td>\n",
       "      <td>[0APfFUcPD3iZKUk9PVA]</td>\n",
       "      <td>[{u'kind': u'drive#permission', u'displayName'...</td>\n",
       "      <td>False</td>\n",
       "    </tr>\n",
       "    <tr>\n",
       "      <th>3</th>\n",
       "      <td>0B_fFUcPD3iZKYkhVdS1nTnZ3QTQ</td>\n",
       "      <td>drive#file</td>\n",
       "      <td>application/vnd.google-apps.folder</td>\n",
       "      <td>gdrive-test-folder</td>\n",
       "      <td>[0APfFUcPD3iZKUk9PVA]</td>\n",
       "      <td>[{u'kind': u'drive#permission', u'displayName'...</td>\n",
       "      <td>False</td>\n",
       "    </tr>\n",
       "    <tr>\n",
       "      <th>4</th>\n",
       "      <td>0B_fFUcPD3iZKeXNGUlQzZnhWM1k</td>\n",
       "      <td>drive#file</td>\n",
       "      <td>application/vnd.google-apps.folder</td>\n",
       "      <td>gdrive-test-folder</td>\n",
       "      <td>[0APfFUcPD3iZKUk9PVA]</td>\n",
       "      <td>[{u'kind': u'drive#permission', u'displayName'...</td>\n",
       "      <td>False</td>\n",
       "    </tr>\n",
       "  </tbody>\n",
       "</table>\n",
       "</div>"
      ],
      "text/plain": [
       "                             id        kind  \\\n",
       "0  0B_fFUcPD3iZKZF9TajJIUno4OW8  drive#file   \n",
       "1  0B_fFUcPD3iZKRmJsaHgtOTBwVUE  drive#file   \n",
       "2  0B_fFUcPD3iZKNzgtWnlDNmp4TE0  drive#file   \n",
       "3  0B_fFUcPD3iZKYkhVdS1nTnZ3QTQ  drive#file   \n",
       "4  0B_fFUcPD3iZKeXNGUlQzZnhWM1k  drive#file   \n",
       "\n",
       "                             mimeType                name  \\\n",
       "0                          text/plain            data.txt   \n",
       "1                          text/plain            data.txt   \n",
       "2  application/vnd.google-apps.folder  gdrive-test-folder   \n",
       "3  application/vnd.google-apps.folder  gdrive-test-folder   \n",
       "4  application/vnd.google-apps.folder  gdrive-test-folder   \n",
       "\n",
       "                 parents                                        permissions  \\\n",
       "0  [0APfFUcPD3iZKUk9PVA]  [{u'kind': u'drive#permission', u'displayName'...   \n",
       "1  [0APfFUcPD3iZKUk9PVA]  [{u'kind': u'drive#permission', u'displayName'...   \n",
       "2  [0APfFUcPD3iZKUk9PVA]  [{u'kind': u'drive#permission', u'displayName'...   \n",
       "3  [0APfFUcPD3iZKUk9PVA]  [{u'kind': u'drive#permission', u'displayName'...   \n",
       "4  [0APfFUcPD3iZKUk9PVA]  [{u'kind': u'drive#permission', u'displayName'...   \n",
       "\n",
       "  shared  \n",
       "0  False  \n",
       "1  False  \n",
       "2  False  \n",
       "3  False  \n",
       "4  False  "
      ]
     },
     "execution_count": 7,
     "metadata": {},
     "output_type": "execute_result"
    }
   ],
   "source": [
    "# view all files\n",
    "import pandas as pd\n",
    "pd.DataFrame(data['files']).head(5)"
   ]
  },
  {
   "cell_type": "code",
   "execution_count": 8,
   "metadata": {
    "collapsed": false
   },
   "outputs": [
    {
     "name": "stdout",
     "output_type": "stream",
     "text": [
      "New Folder ID:0B_fFUcPD3iZKNDNKLXpQUktPOWs\n"
     ]
    },
    {
     "data": {
      "text/plain": [
       "{u'id': u'0B_fFUcPD3iZKNDNKLXpQUktPOWs',\n",
       " u'mimeType': u'application/vnd.google-apps.folder',\n",
       " u'name': u'gdrive-test-folder',\n",
       " u'parents': [u'0APfFUcPD3iZKUk9PVA']}"
      ]
     },
     "execution_count": 8,
     "metadata": {},
     "output_type": "execute_result"
    }
   ],
   "source": [
    "# create a folder\n",
    "def create_folder(folder_name, parent_id):\n",
    "    # if parent is not specified not folder would be created \n",
    "    # inside root\n",
    "    metadata = {\n",
    "        'name': folder_name,\n",
    "        'mimeType': 'application/vnd.google-apps.folder',\n",
    "    }\n",
    "    if parent_id:\n",
    "        metadata['parents'] = [parent_id]\n",
    "    \n",
    "    folder = service.files().create(\n",
    "        body=metadata,\n",
    "        fields='id'\n",
    "    ).execute()\n",
    "    return folder['id']\n",
    "ID = create_folder('gdrive-test-folder', None)\n",
    "print(\"New Folder ID:\" + ID)\n",
    "# Get file metadata\n",
    "service.files().get(fileId=ID, fields=\"name,id,mimeType,parents\").execute()"
   ]
  },
  {
   "cell_type": "code",
   "execution_count": 9,
   "metadata": {
    "collapsed": false
   },
   "outputs": [
    {
     "data": {
      "text/plain": [
       "''"
      ]
     },
     "execution_count": 9,
     "metadata": {},
     "output_type": "execute_result"
    }
   ],
   "source": [
    "# delete the file/folder that we have created recently\n",
    "service.files().delete(fileId=ID, fields=\"id\").execute()"
   ]
  },
  {
   "cell_type": "code",
   "execution_count": 10,
   "metadata": {
    "collapsed": false
   },
   "outputs": [
    {
     "data": {
      "text/plain": [
       "{u'files': [{u'id': u'0B_fFUcPD3iZKNzgtWnlDNmp4TE0',\n",
       "   u'name': u'gdrive-test-folder'},\n",
       "  {u'id': u'0B_fFUcPD3iZKYkhVdS1nTnZ3QTQ', u'name': u'gdrive-test-folder'},\n",
       "  {u'id': u'0B_fFUcPD3iZKeXNGUlQzZnhWM1k', u'name': u'gdrive-test-folder'},\n",
       "  {u'id': u'0B_fFUcPD3iZKRmNkc3R0ajREb2M', u'name': u'gdrive-test-folder'},\n",
       "  {u'id': u'0B_fFUcPD3iZKaEE3aUMyakdrQUU', u'name': u'gdrive-test-folder'},\n",
       "  {u'id': u'0B_fFUcPD3iZKeWstUE1tS05BME0', u'name': u'gdrive-test-folder'},\n",
       "  {u'id': u'0B_fFUcPD3iZKWWlaZFJpM08zTlE', u'name': u'gdrive-test-folder'},\n",
       "  {u'id': u'0B_fFUcPD3iZKNzVQMFVtOUdpMEU', u'name': u'gdrive-test-folder'}]}"
      ]
     },
     "execution_count": 10,
     "metadata": {},
     "output_type": "execute_result"
    }
   ],
   "source": [
    "service.files().list(q=\"name='gdrive-test-folder'\", fields=\"files(id,name)\").execute()"
   ]
  },
  {
   "cell_type": "code",
   "execution_count": 11,
   "metadata": {
    "collapsed": false
   },
   "outputs": [],
   "source": [
    "# upload a file with MedialUpload\n",
    "from googleapiclient.http import MediaFileUpload\n",
    "media = MediaFileUpload(\n",
    "    'data.txt', # filename,\n",
    "    mimetype=\"text/plain\",\n",
    "    resumable=True\n",
    ")\n",
    "body = {\n",
    "    'name': 'data.txt',\n",
    "    'mimeType': 'text/plain'\n",
    "}\n",
    "response = service.files().create(\n",
    "    body=body,\n",
    "    media_body=media,\n",
    "    fields=\"id\"\n",
    ").execute()\n",
    "ID = response['id']"
   ]
  },
  {
   "cell_type": "code",
   "execution_count": 12,
   "metadata": {
    "collapsed": false
   },
   "outputs": [],
   "source": [
    "# share file/folder with other user\n",
    "permission_id = service.permissions().create(\n",
    "    fileId=ID,\n",
    "    body={\n",
    "        \"type\": \"user\",\n",
    "        \"role\": \"writer\",\n",
    "        \"emailAddress\": \"salam@datalicious.com\"\n",
    "    },\n",
    "    fields='id'\n",
    ").execute()"
   ]
  }
 ],
 "metadata": {
  "kernelspec": {
   "display_name": "Python 2",
   "language": "python",
   "name": "python2"
  },
  "language_info": {
   "codemirror_mode": {
    "name": "ipython",
    "version": 2
   },
   "file_extension": ".py",
   "mimetype": "text/x-python",
   "name": "python",
   "nbconvert_exporter": "python",
   "pygments_lexer": "ipython2",
   "version": "2.7.11"
  }
 },
 "nbformat": 4,
 "nbformat_minor": 0
}
