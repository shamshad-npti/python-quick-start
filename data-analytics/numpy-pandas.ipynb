{
 "cells": [
  {
   "cell_type": "code",
   "execution_count": 1,
   "metadata": {
    "collapsed": true
   },
   "outputs": [],
   "source": [
    "import warnings\n",
    "warnings.filterwarnings(\"ignore\")"
   ]
  },
  {
   "cell_type": "code",
   "execution_count": 184,
   "metadata": {
    "collapsed": false
   },
   "outputs": [],
   "source": [
    "import pandas as pd\n",
    "import numpy as np\n",
    "import scipy as sp\n",
    "from matplotlib import pylab, pyplot\n",
    "%matplotlib inline\n",
    "pylab.plt.style.use(\"seaborn-colorblind\")\n",
    "%config InlineBackend.figure_format = 'retina'"
   ]
  },
  {
   "cell_type": "markdown",
   "metadata": {},
   "source": [
    "> Numpy Array\n",
    "\n",
    "> Pandas Series(Numpy Array)\n",
    "\n",
    "__Difference between numpy and python array__\n",
    "* Numpy Array holds homogeneous elements\n",
    "* Bunch of convenient functions"
   ]
  },
  {
   "cell_type": "code",
   "execution_count": 3,
   "metadata": {
    "collapsed": true
   },
   "outputs": [],
   "source": [
    "a = np.arange(1, 5)"
   ]
  },
  {
   "cell_type": "code",
   "execution_count": 4,
   "metadata": {
    "collapsed": false
   },
   "outputs": [
    {
     "data": {
      "text/plain": [
       "numpy.ndarray"
      ]
     },
     "execution_count": 4,
     "metadata": {},
     "output_type": "execute_result"
    }
   ],
   "source": [
    "type (a)"
   ]
  },
  {
   "cell_type": "code",
   "execution_count": 5,
   "metadata": {
    "collapsed": false
   },
   "outputs": [
    {
     "name": "stdout",
     "output_type": "stream",
     "text": [
      "4 3 1.11803398875 1.25 2.5\n"
     ]
    }
   ],
   "source": [
    "print a.max(), a.argmax(), a.std(), a.var(), a.mean()"
   ]
  },
  {
   "cell_type": "code",
   "execution_count": 6,
   "metadata": {
    "collapsed": false
   },
   "outputs": [
    {
     "data": {
      "text/plain": [
       "dtype('int64')"
      ]
     },
     "execution_count": 6,
     "metadata": {},
     "output_type": "execute_result"
    }
   ],
   "source": [
    "a = np.array([2, 3, 4, 5, 6])\n",
    "a.dtype"
   ]
  },
  {
   "cell_type": "code",
   "execution_count": 7,
   "metadata": {
    "collapsed": false
   },
   "outputs": [
    {
     "data": {
      "text/plain": [
       "dtype('S21')"
      ]
     },
     "execution_count": 7,
     "metadata": {},
     "output_type": "execute_result"
    }
   ],
   "source": [
    "a = np.array([1, \"SWE\"])\n",
    "a.dtype"
   ]
  },
  {
   "cell_type": "code",
   "execution_count": 8,
   "metadata": {
    "collapsed": false
   },
   "outputs": [
    {
     "data": {
      "text/plain": [
       "array([3, 5])"
      ]
     },
     "execution_count": 8,
     "metadata": {},
     "output_type": "execute_result"
    }
   ],
   "source": [
    "np.array([1, 2]) + np.array([2, 3])"
   ]
  },
  {
   "cell_type": "code",
   "execution_count": 9,
   "metadata": {
    "collapsed": false
   },
   "outputs": [
    {
     "data": {
      "text/plain": [
       "[1, 2, 3, 1, 2, 3, 1, 2, 3]"
      ]
     },
     "execution_count": 9,
     "metadata": {},
     "output_type": "execute_result"
    }
   ],
   "source": [
    "[1, 2, 3] * 3"
   ]
  },
  {
   "cell_type": "code",
   "execution_count": 10,
   "metadata": {
    "collapsed": false
   },
   "outputs": [
    {
     "data": {
      "text/plain": [
       "numpy.ndarray"
      ]
     },
     "execution_count": 10,
     "metadata": {},
     "output_type": "execute_result"
    }
   ],
   "source": [
    "type(3 * np.array([2, 3, 6]))"
   ]
  },
  {
   "cell_type": "code",
   "execution_count": 11,
   "metadata": {
    "collapsed": true
   },
   "outputs": [],
   "source": [
    "# &, | ~"
   ]
  },
  {
   "cell_type": "code",
   "execution_count": 12,
   "metadata": {
    "collapsed": false
   },
   "outputs": [
    {
     "data": {
      "text/plain": [
       "array([[1, 2],\n",
       "       [4, 5]])"
      ]
     },
     "execution_count": 12,
     "metadata": {},
     "output_type": "execute_result"
    }
   ],
   "source": [
    "np.array([np.array([1, 2]), np.array([4, 5])])"
   ]
  },
  {
   "cell_type": "code",
   "execution_count": 13,
   "metadata": {
    "collapsed": false
   },
   "outputs": [
    {
     "name": "stdout",
     "output_type": "stream",
     "text": [
      "[1 2 3 4 5] [10  5]\n"
     ]
    }
   ],
   "source": [
    "a = np.array([1, 2, 3, 4, 5])\n",
    "b = a > 3\n",
    "c = a[b]\n",
    "c[0] = 10\n",
    "print a, c"
   ]
  },
  {
   "cell_type": "code",
   "execution_count": 14,
   "metadata": {
    "collapsed": true
   },
   "outputs": [],
   "source": [
    "# += operator is inplace but + is not"
   ]
  },
  {
   "cell_type": "code",
   "execution_count": 15,
   "metadata": {
    "collapsed": false,
    "scrolled": true
   },
   "outputs": [
    {
     "name": "stdout",
     "output_type": "stream",
     "text": [
      "[100   2   3   4]\n"
     ]
    }
   ],
   "source": [
    "x = np.array([1, 2, 3, 4])\n",
    "s = x[:3]\n",
    "s[0] = 100\n",
    "print x"
   ]
  },
  {
   "cell_type": "code",
   "execution_count": 16,
   "metadata": {
    "collapsed": false
   },
   "outputs": [
    {
     "data": {
      "text/plain": [
       "count      8.000000\n",
       "mean      15.750000\n",
       "std       34.057724\n",
       "min        2.000000\n",
       "25%        3.000000\n",
       "50%        4.000000\n",
       "75%        5.000000\n",
       "max      100.000000\n",
       "dtype: float64"
      ]
     },
     "execution_count": 16,
     "metadata": {},
     "output_type": "execute_result"
    }
   ],
   "source": [
    "# Pandas series: describe\n",
    "x = pd.Series([2, 3, 4, 5, 3, 4, 5, 100])\n",
    "x.describe()"
   ]
  },
  {
   "cell_type": "code",
   "execution_count": 17,
   "metadata": {
    "collapsed": false
   },
   "outputs": [],
   "source": [
    "# pandas series have something called index\n",
    "d = pd.Series([2, 3, 4, 5], index=[\"A,\", \"B\", \"C\", \"D\"])"
   ]
  },
  {
   "cell_type": "code",
   "execution_count": 18,
   "metadata": {
    "collapsed": false
   },
   "outputs": [
    {
     "name": "stdout",
     "output_type": "stream",
     "text": [
      "3 3 3 3\n"
     ]
    },
    {
     "data": {
      "text/plain": [
       "'D'"
      ]
     },
     "execution_count": 18,
     "metadata": {},
     "output_type": "execute_result"
    }
   ],
   "source": [
    "print d[1], d['B'], d.loc['B'], d.iloc[1]\n",
    "d.argmax()"
   ]
  },
  {
   "cell_type": "code",
   "execution_count": 19,
   "metadata": {
    "collapsed": true
   },
   "outputs": [],
   "source": [
    "d['B'] = 4"
   ]
  },
  {
   "cell_type": "code",
   "execution_count": 20,
   "metadata": {
    "collapsed": true
   },
   "outputs": [],
   "source": [
    "d.loc['C'] = 1"
   ]
  },
  {
   "cell_type": "code",
   "execution_count": 21,
   "metadata": {
    "collapsed": false
   },
   "outputs": [
    {
     "data": {
      "text/plain": [
       "A,    2\n",
       "B     4\n",
       "C     1\n",
       "D     5\n",
       "dtype: int64"
      ]
     },
     "execution_count": 21,
     "metadata": {},
     "output_type": "execute_result"
    }
   ],
   "source": [
    "d"
   ]
  },
  {
   "cell_type": "code",
   "execution_count": 22,
   "metadata": {
    "collapsed": false
   },
   "outputs": [
    {
     "data": {
      "text/plain": [
       "a    11\n",
       "b    22\n",
       "c    33\n",
       "d    44\n",
       "dtype: int64"
      ]
     },
     "execution_count": 22,
     "metadata": {},
     "output_type": "execute_result"
    }
   ],
   "source": [
    "s1 = pd.Series(data=[1, 2, 3, 4], index=list(\"abcd\"))\n",
    "s2 = pd.Series(data=[10, 20, 30, 40], index=list(\"abcd\"))\n",
    "s1 + s2"
   ]
  },
  {
   "cell_type": "code",
   "execution_count": 23,
   "metadata": {
    "collapsed": false
   },
   "outputs": [
    {
     "data": {
      "text/plain": [
       "a    31\n",
       "b    12\n",
       "c    43\n",
       "d    24\n",
       "dtype: int64"
      ]
     },
     "execution_count": 23,
     "metadata": {},
     "output_type": "execute_result"
    }
   ],
   "source": [
    "# Behaviour of two series with arithmatic operations\n",
    "s1 = pd.Series(data=[1, 2, 3, 4], index=list(\"abcd\"))\n",
    "s2 = pd.Series(data=[10, 20, 30, 40], index=list(\"bdac\"))\n",
    "s1 + s2"
   ]
  },
  {
   "cell_type": "code",
   "execution_count": 24,
   "metadata": {
    "collapsed": false
   },
   "outputs": [
    {
     "data": {
      "text/plain": [
       "a    11.0\n",
       "b    22.0\n",
       "c     NaN\n",
       "d     NaN\n",
       "e     NaN\n",
       "f     NaN\n",
       "dtype: float64"
      ]
     },
     "execution_count": 24,
     "metadata": {},
     "output_type": "execute_result"
    }
   ],
   "source": [
    "s1 = pd.Series(data=[1, 2, 3, 4], index=list(\"abcd\"))\n",
    "s2 = pd.Series(data=[10, 20, 30, 40], index=list(\"abef\"))\n",
    "s1 + s2"
   ]
  },
  {
   "cell_type": "code",
   "execution_count": 25,
   "metadata": {
    "collapsed": false
   },
   "outputs": [
    {
     "data": {
      "text/plain": [
       "a   NaN\n",
       "b   NaN\n",
       "c   NaN\n",
       "d   NaN\n",
       "e   NaN\n",
       "f   NaN\n",
       "g   NaN\n",
       "h   NaN\n",
       "dtype: float64"
      ]
     },
     "execution_count": 25,
     "metadata": {},
     "output_type": "execute_result"
    }
   ],
   "source": [
    "s1 = pd.Series(data=[1, 2, 3, 4], index=list(\"abcd\"))\n",
    "s2 = pd.Series(data=[10, 20, 30, 40], index=list(\"efgh\"))\n",
    "s1 + s2"
   ]
  },
  {
   "cell_type": "code",
   "execution_count": 26,
   "metadata": {
    "collapsed": false
   },
   "outputs": [
    {
     "data": {
      "text/plain": [
       "a     1.0\n",
       "b     2.0\n",
       "c     3.0\n",
       "d     4.0\n",
       "e    10.0\n",
       "f    20.0\n",
       "g    30.0\n",
       "h    40.0\n",
       "dtype: float64"
      ]
     },
     "execution_count": 26,
     "metadata": {},
     "output_type": "execute_result"
    }
   ],
   "source": [
    "s1.add(s2, fill_value=0)"
   ]
  },
  {
   "cell_type": "code",
   "execution_count": 41,
   "metadata": {
    "collapsed": false
   },
   "outputs": [
    {
     "data": {
      "text/plain": [
       "5"
      ]
     },
     "execution_count": 41,
     "metadata": {},
     "output_type": "execute_result"
    }
   ],
   "source": [
    "y = np.array([[1, 2, 3], [3, 4, 5]])\n",
    "y[1, 2]"
   ]
  },
  {
   "cell_type": "code",
   "execution_count": 42,
   "metadata": {
    "collapsed": false
   },
   "outputs": [
    {
     "data": {
      "text/plain": [
       "1"
      ]
     },
     "execution_count": 42,
     "metadata": {},
     "output_type": "execute_result"
    }
   ],
   "source": [
    "x = [[1, 2], [3, 4]]\n",
    "x[0][0]\n",
    "# x[0, 0] -> will not work"
   ]
  },
  {
   "cell_type": "code",
   "execution_count": 49,
   "metadata": {
    "collapsed": false
   },
   "outputs": [
    {
     "name": "stdout",
     "output_type": "stream",
     "text": [
      "2328\n",
      "[[2328 2539]\n",
      " [6461 2691]]\n",
      "[1478 3877 3674 2328 2539]\n",
      "[1478 3877 3676 2333 2539]\n",
      "[   0 5355 5701 4952 6410 5509  324    2 5223 5385]\n",
      "[[ 2  3  4]\n",
      " [ 6  7  8]\n",
      " [10 11 12]]\n"
     ]
    },
    {
     "data": {
      "text/plain": [
       "(2342.5999999999999, 3983.5999999999999)"
      ]
     },
     "execution_count": 49,
     "metadata": {},
     "output_type": "execute_result"
    }
   ],
   "source": [
    "# more example: directly taken from Udacity\n",
    "# Subway ridership for 5 stations on 10 different days\n",
    "ridership = np.array([\n",
    "    [   0,    0,    2,    5,    0],\n",
    "    [1478, 3877, 3674, 2328, 2539],\n",
    "    [1613, 4088, 3991, 6461, 2691],\n",
    "    [1560, 3392, 3826, 4787, 2613],\n",
    "    [1608, 4802, 3932, 4477, 2705],\n",
    "    [1576, 3933, 3909, 4979, 2685],\n",
    "    [  95,  229,  255,  496,  201],\n",
    "    [   2,    0,    1,   27,    0],\n",
    "    [1438, 3785, 3589, 4174, 2215],\n",
    "    [1342, 4043, 4009, 4665, 3033]\n",
    "])\n",
    "\n",
    "# Change False to True for each block of code to see what it does\n",
    "\n",
    "# Accessing elements\n",
    "if True:\n",
    "    print ridership[1, 3]\n",
    "    print ridership[1:3, 3:5]\n",
    "    print ridership[1, :]\n",
    "    \n",
    "# Vectorized operations on rows or columns\n",
    "if True:\n",
    "    print ridership[0, :] + ridership[1, :]\n",
    "    print ridership[:, 0] + ridership[:, 1]\n",
    "    \n",
    "# Vectorized operations on entire arrays\n",
    "if True:\n",
    "    a = np.array([[1, 2, 3], [4, 5, 6], [7, 8, 9]])\n",
    "    b = np.array([[1, 1, 1], [2, 2, 2], [3, 3, 3]])\n",
    "    print a + b\n",
    "\n",
    "def mean_riders_for_max_station(ridership):\n",
    "    '''\n",
    "    Fill in this function to find the station with the maximum riders on the\n",
    "    first day, then return the mean riders per day for that station. Also\n",
    "    return the mean ridership overall for comparsion.\n",
    "    \n",
    "    Hint: NumPy's argmax() function might be useful:\n",
    "    http://docs.scipy.org/doc/numpy/reference/generated/numpy.argmax.html\n",
    "    '''\n",
    "    overall_mean = ridership.mean() # Replace this with your code\n",
    "    mean_for_max = ridership.max(axis=0).mean() # Replace this with your code\n",
    "    \n",
    "    return (overall_mean, mean_for_max)\n",
    "mean_riders_for_max_station(ridership)"
   ]
  },
  {
   "cell_type": "code",
   "execution_count": null,
   "metadata": {
    "collapsed": true
   },
   "outputs": [],
   "source": [
    "axis0|axis1->"
   ]
  },
  {
   "cell_type": "code",
   "execution_count": 51,
   "metadata": {
    "collapsed": false
   },
   "outputs": [
    {
     "data": {
      "text/plain": [
       "array([   5, 3877, 6461, 4787, 4802, 4979,  496,   27, 4174, 4665])"
      ]
     },
     "execution_count": 51,
     "metadata": {},
     "output_type": "execute_result"
    }
   ],
   "source": [
    "ridership.max(axis=1)"
   ]
  },
  {
   "cell_type": "code",
   "execution_count": 52,
   "metadata": {
    "collapsed": true
   },
   "outputs": [],
   "source": [
    "ridership_df = pd.DataFrame(\n",
    "    data=[[   0,    0,    2,    5,    0],\n",
    "          [1478, 3877, 3674, 2328, 2539],\n",
    "          [1613, 4088, 3991, 6461, 2691],\n",
    "          [1560, 3392, 3826, 4787, 2613],\n",
    "          [1608, 4802, 3932, 4477, 2705],\n",
    "          [1576, 3933, 3909, 4979, 2685],\n",
    "          [  95,  229,  255,  496,  201],\n",
    "          [   2,    0,    1,   27,    0],\n",
    "          [1438, 3785, 3589, 4174, 2215],\n",
    "          [1342, 4043, 4009, 4665, 3033]],\n",
    "    index=['05-01-11', '05-02-11', '05-03-11', '05-04-11', '05-05-11',\n",
    "           '05-06-11', '05-07-11', '05-08-11', '05-09-11', '05-10-11'],\n",
    "    columns=['R003', 'R004', 'R005', 'R006', 'R007']\n",
    ")"
   ]
  },
  {
   "cell_type": "code",
   "execution_count": 53,
   "metadata": {
    "collapsed": false
   },
   "outputs": [
    {
     "data": {
      "text/html": [
       "<div>\n",
       "<table border=\"1\" class=\"dataframe\">\n",
       "  <thead>\n",
       "    <tr style=\"text-align: right;\">\n",
       "      <th></th>\n",
       "      <th>R003</th>\n",
       "      <th>R004</th>\n",
       "      <th>R005</th>\n",
       "      <th>R006</th>\n",
       "      <th>R007</th>\n",
       "    </tr>\n",
       "  </thead>\n",
       "  <tbody>\n",
       "    <tr>\n",
       "      <th>05-01-11</th>\n",
       "      <td>0</td>\n",
       "      <td>0</td>\n",
       "      <td>2</td>\n",
       "      <td>5</td>\n",
       "      <td>0</td>\n",
       "    </tr>\n",
       "    <tr>\n",
       "      <th>05-02-11</th>\n",
       "      <td>1478</td>\n",
       "      <td>3877</td>\n",
       "      <td>3674</td>\n",
       "      <td>2328</td>\n",
       "      <td>2539</td>\n",
       "    </tr>\n",
       "    <tr>\n",
       "      <th>05-03-11</th>\n",
       "      <td>1613</td>\n",
       "      <td>4088</td>\n",
       "      <td>3991</td>\n",
       "      <td>6461</td>\n",
       "      <td>2691</td>\n",
       "    </tr>\n",
       "    <tr>\n",
       "      <th>05-04-11</th>\n",
       "      <td>1560</td>\n",
       "      <td>3392</td>\n",
       "      <td>3826</td>\n",
       "      <td>4787</td>\n",
       "      <td>2613</td>\n",
       "    </tr>\n",
       "    <tr>\n",
       "      <th>05-05-11</th>\n",
       "      <td>1608</td>\n",
       "      <td>4802</td>\n",
       "      <td>3932</td>\n",
       "      <td>4477</td>\n",
       "      <td>2705</td>\n",
       "    </tr>\n",
       "    <tr>\n",
       "      <th>05-06-11</th>\n",
       "      <td>1576</td>\n",
       "      <td>3933</td>\n",
       "      <td>3909</td>\n",
       "      <td>4979</td>\n",
       "      <td>2685</td>\n",
       "    </tr>\n",
       "    <tr>\n",
       "      <th>05-07-11</th>\n",
       "      <td>95</td>\n",
       "      <td>229</td>\n",
       "      <td>255</td>\n",
       "      <td>496</td>\n",
       "      <td>201</td>\n",
       "    </tr>\n",
       "    <tr>\n",
       "      <th>05-08-11</th>\n",
       "      <td>2</td>\n",
       "      <td>0</td>\n",
       "      <td>1</td>\n",
       "      <td>27</td>\n",
       "      <td>0</td>\n",
       "    </tr>\n",
       "    <tr>\n",
       "      <th>05-09-11</th>\n",
       "      <td>1438</td>\n",
       "      <td>3785</td>\n",
       "      <td>3589</td>\n",
       "      <td>4174</td>\n",
       "      <td>2215</td>\n",
       "    </tr>\n",
       "    <tr>\n",
       "      <th>05-10-11</th>\n",
       "      <td>1342</td>\n",
       "      <td>4043</td>\n",
       "      <td>4009</td>\n",
       "      <td>4665</td>\n",
       "      <td>3033</td>\n",
       "    </tr>\n",
       "  </tbody>\n",
       "</table>\n",
       "</div>"
      ],
      "text/plain": [
       "          R003  R004  R005  R006  R007\n",
       "05-01-11     0     0     2     5     0\n",
       "05-02-11  1478  3877  3674  2328  2539\n",
       "05-03-11  1613  4088  3991  6461  2691\n",
       "05-04-11  1560  3392  3826  4787  2613\n",
       "05-05-11  1608  4802  3932  4477  2705\n",
       "05-06-11  1576  3933  3909  4979  2685\n",
       "05-07-11    95   229   255   496   201\n",
       "05-08-11     2     0     1    27     0\n",
       "05-09-11  1438  3785  3589  4174  2215\n",
       "05-10-11  1342  4043  4009  4665  3033"
      ]
     },
     "execution_count": 53,
     "metadata": {},
     "output_type": "execute_result"
    }
   ],
   "source": [
    "ridership_df"
   ]
  },
  {
   "cell_type": "code",
   "execution_count": 54,
   "metadata": {
    "collapsed": false
   },
   "outputs": [
    {
     "data": {
      "text/plain": [
       "05-01-11       0\n",
       "05-02-11    3877\n",
       "05-03-11    4088\n",
       "05-04-11    3392\n",
       "05-05-11    4802\n",
       "05-06-11    3933\n",
       "05-07-11     229\n",
       "05-08-11       0\n",
       "05-09-11    3785\n",
       "05-10-11    4043\n",
       "Name: R004, dtype: int64"
      ]
     },
     "execution_count": 54,
     "metadata": {},
     "output_type": "execute_result"
    }
   ],
   "source": [
    "ridership_df['R004']"
   ]
  },
  {
   "cell_type": "code",
   "execution_count": 59,
   "metadata": {
    "collapsed": false
   },
   "outputs": [
    {
     "data": {
      "text/plain": [
       "05-01-11       0\n",
       "05-02-11    3877\n",
       "05-03-11    4088\n",
       "05-04-11    3392\n",
       "05-05-11    4802\n",
       "05-06-11    3933\n",
       "05-07-11     229\n",
       "05-08-11       0\n",
       "05-09-11    3785\n",
       "05-10-11    4043\n",
       "Name: R004, dtype: int64"
      ]
     },
     "execution_count": 59,
     "metadata": {},
     "output_type": "execute_result"
    }
   ],
   "source": [
    "ridership_df.loc[:, 'R004']"
   ]
  },
  {
   "cell_type": "code",
   "execution_count": 61,
   "metadata": {
    "collapsed": false
   },
   "outputs": [
    {
     "data": {
      "text/plain": [
       "R003     2\n",
       "R004     0\n",
       "R005     1\n",
       "R006    27\n",
       "R007     0\n",
       "Name: 05-08-11, dtype: int64"
      ]
     },
     "execution_count": 61,
     "metadata": {},
     "output_type": "execute_result"
    }
   ],
   "source": [
    "ridership_df.loc['05-08-11']"
   ]
  },
  {
   "cell_type": "code",
   "execution_count": 68,
   "metadata": {
    "collapsed": false
   },
   "outputs": [
    {
     "data": {
      "text/plain": [
       "05-01-11       5\n",
       "05-02-11    2328\n",
       "05-03-11    6461\n",
       "05-04-11    4787\n",
       "05-05-11    4477\n",
       "05-06-11    4979\n",
       "05-07-11     496\n",
       "05-08-11      27\n",
       "05-09-11    4174\n",
       "05-10-11    4665\n",
       "Name: R006, dtype: int64"
      ]
     },
     "execution_count": 68,
     "metadata": {},
     "output_type": "execute_result"
    }
   ],
   "source": [
    "ridership_df.loc[:, ridership_df.iloc[0].argmax()]"
   ]
  },
  {
   "cell_type": "code",
   "execution_count": 70,
   "metadata": {
    "collapsed": false
   },
   "outputs": [
    {
     "data": {
      "text/plain": [
       "'R006'"
      ]
     },
     "execution_count": 70,
     "metadata": {},
     "output_type": "execute_result"
    }
   ],
   "source": [
    "ridership_df.iloc[0].argmax()"
   ]
  },
  {
   "cell_type": "code",
   "execution_count": 72,
   "metadata": {
    "collapsed": false
   },
   "outputs": [
    {
     "data": {
      "text/plain": [
       "2342.5999999999999"
      ]
     },
     "execution_count": 72,
     "metadata": {},
     "output_type": "execute_result"
    }
   ],
   "source": [
    "ridership_df.values.mean()"
   ]
  },
  {
   "cell_type": "code",
   "execution_count": 122,
   "metadata": {
    "collapsed": true
   },
   "outputs": [],
   "source": [
    "df = pd.read_csv(\"nyc_subway_weather.csv\")"
   ]
  },
  {
   "cell_type": "code",
   "execution_count": 74,
   "metadata": {
    "collapsed": false
   },
   "outputs": [
    {
     "data": {
      "text/html": [
       "<div>\n",
       "<table border=\"1\" class=\"dataframe\">\n",
       "  <thead>\n",
       "    <tr style=\"text-align: right;\">\n",
       "      <th></th>\n",
       "      <th>UNIT</th>\n",
       "      <th>DATEn</th>\n",
       "      <th>TIMEn</th>\n",
       "      <th>ENTRIESn</th>\n",
       "      <th>EXITSn</th>\n",
       "      <th>ENTRIESn_hourly</th>\n",
       "      <th>EXITSn_hourly</th>\n",
       "      <th>datetime</th>\n",
       "      <th>hour</th>\n",
       "      <th>day_week</th>\n",
       "      <th>...</th>\n",
       "      <th>pressurei</th>\n",
       "      <th>rain</th>\n",
       "      <th>tempi</th>\n",
       "      <th>wspdi</th>\n",
       "      <th>meanprecipi</th>\n",
       "      <th>meanpressurei</th>\n",
       "      <th>meantempi</th>\n",
       "      <th>meanwspdi</th>\n",
       "      <th>weather_lat</th>\n",
       "      <th>weather_lon</th>\n",
       "    </tr>\n",
       "  </thead>\n",
       "  <tbody>\n",
       "    <tr>\n",
       "      <th>0</th>\n",
       "      <td>R003</td>\n",
       "      <td>05-01-11</td>\n",
       "      <td>00:00:00</td>\n",
       "      <td>4388333</td>\n",
       "      <td>2911002</td>\n",
       "      <td>0.0</td>\n",
       "      <td>0.0</td>\n",
       "      <td>2011-05-01 00:00:00</td>\n",
       "      <td>0</td>\n",
       "      <td>6</td>\n",
       "      <td>...</td>\n",
       "      <td>30.22</td>\n",
       "      <td>0</td>\n",
       "      <td>55.9</td>\n",
       "      <td>3.5</td>\n",
       "      <td>0.0</td>\n",
       "      <td>30.258</td>\n",
       "      <td>55.98</td>\n",
       "      <td>7.86</td>\n",
       "      <td>40.700348</td>\n",
       "      <td>-73.887177</td>\n",
       "    </tr>\n",
       "    <tr>\n",
       "      <th>1</th>\n",
       "      <td>R003</td>\n",
       "      <td>05-01-11</td>\n",
       "      <td>04:00:00</td>\n",
       "      <td>4388333</td>\n",
       "      <td>2911002</td>\n",
       "      <td>0.0</td>\n",
       "      <td>0.0</td>\n",
       "      <td>2011-05-01 04:00:00</td>\n",
       "      <td>4</td>\n",
       "      <td>6</td>\n",
       "      <td>...</td>\n",
       "      <td>30.25</td>\n",
       "      <td>0</td>\n",
       "      <td>52.0</td>\n",
       "      <td>3.5</td>\n",
       "      <td>0.0</td>\n",
       "      <td>30.258</td>\n",
       "      <td>55.98</td>\n",
       "      <td>7.86</td>\n",
       "      <td>40.700348</td>\n",
       "      <td>-73.887177</td>\n",
       "    </tr>\n",
       "    <tr>\n",
       "      <th>2</th>\n",
       "      <td>R003</td>\n",
       "      <td>05-01-11</td>\n",
       "      <td>12:00:00</td>\n",
       "      <td>4388333</td>\n",
       "      <td>2911002</td>\n",
       "      <td>0.0</td>\n",
       "      <td>0.0</td>\n",
       "      <td>2011-05-01 12:00:00</td>\n",
       "      <td>12</td>\n",
       "      <td>6</td>\n",
       "      <td>...</td>\n",
       "      <td>30.28</td>\n",
       "      <td>0</td>\n",
       "      <td>62.1</td>\n",
       "      <td>6.9</td>\n",
       "      <td>0.0</td>\n",
       "      <td>30.258</td>\n",
       "      <td>55.98</td>\n",
       "      <td>7.86</td>\n",
       "      <td>40.700348</td>\n",
       "      <td>-73.887177</td>\n",
       "    </tr>\n",
       "    <tr>\n",
       "      <th>3</th>\n",
       "      <td>R003</td>\n",
       "      <td>05-01-11</td>\n",
       "      <td>16:00:00</td>\n",
       "      <td>4388333</td>\n",
       "      <td>2911002</td>\n",
       "      <td>0.0</td>\n",
       "      <td>0.0</td>\n",
       "      <td>2011-05-01 16:00:00</td>\n",
       "      <td>16</td>\n",
       "      <td>6</td>\n",
       "      <td>...</td>\n",
       "      <td>30.26</td>\n",
       "      <td>0</td>\n",
       "      <td>57.9</td>\n",
       "      <td>15.0</td>\n",
       "      <td>0.0</td>\n",
       "      <td>30.258</td>\n",
       "      <td>55.98</td>\n",
       "      <td>7.86</td>\n",
       "      <td>40.700348</td>\n",
       "      <td>-73.887177</td>\n",
       "    </tr>\n",
       "    <tr>\n",
       "      <th>4</th>\n",
       "      <td>R003</td>\n",
       "      <td>05-01-11</td>\n",
       "      <td>20:00:00</td>\n",
       "      <td>4388333</td>\n",
       "      <td>2911002</td>\n",
       "      <td>0.0</td>\n",
       "      <td>0.0</td>\n",
       "      <td>2011-05-01 20:00:00</td>\n",
       "      <td>20</td>\n",
       "      <td>6</td>\n",
       "      <td>...</td>\n",
       "      <td>30.28</td>\n",
       "      <td>0</td>\n",
       "      <td>52.0</td>\n",
       "      <td>10.4</td>\n",
       "      <td>0.0</td>\n",
       "      <td>30.258</td>\n",
       "      <td>55.98</td>\n",
       "      <td>7.86</td>\n",
       "      <td>40.700348</td>\n",
       "      <td>-73.887177</td>\n",
       "    </tr>\n",
       "  </tbody>\n",
       "</table>\n",
       "<p>5 rows × 27 columns</p>\n",
       "</div>"
      ],
      "text/plain": [
       "   UNIT     DATEn     TIMEn  ENTRIESn   EXITSn  ENTRIESn_hourly  \\\n",
       "0  R003  05-01-11  00:00:00   4388333  2911002              0.0   \n",
       "1  R003  05-01-11  04:00:00   4388333  2911002              0.0   \n",
       "2  R003  05-01-11  12:00:00   4388333  2911002              0.0   \n",
       "3  R003  05-01-11  16:00:00   4388333  2911002              0.0   \n",
       "4  R003  05-01-11  20:00:00   4388333  2911002              0.0   \n",
       "\n",
       "   EXITSn_hourly             datetime  hour  day_week     ...       pressurei  \\\n",
       "0            0.0  2011-05-01 00:00:00     0         6     ...           30.22   \n",
       "1            0.0  2011-05-01 04:00:00     4         6     ...           30.25   \n",
       "2            0.0  2011-05-01 12:00:00    12         6     ...           30.28   \n",
       "3            0.0  2011-05-01 16:00:00    16         6     ...           30.26   \n",
       "4            0.0  2011-05-01 20:00:00    20         6     ...           30.28   \n",
       "\n",
       "  rain  tempi  wspdi meanprecipi  meanpressurei  meantempi  meanwspdi  \\\n",
       "0    0   55.9    3.5         0.0         30.258      55.98       7.86   \n",
       "1    0   52.0    3.5         0.0         30.258      55.98       7.86   \n",
       "2    0   62.1    6.9         0.0         30.258      55.98       7.86   \n",
       "3    0   57.9   15.0         0.0         30.258      55.98       7.86   \n",
       "4    0   52.0   10.4         0.0         30.258      55.98       7.86   \n",
       "\n",
       "   weather_lat  weather_lon  \n",
       "0    40.700348   -73.887177  \n",
       "1    40.700348   -73.887177  \n",
       "2    40.700348   -73.887177  \n",
       "3    40.700348   -73.887177  \n",
       "4    40.700348   -73.887177  \n",
       "\n",
       "[5 rows x 27 columns]"
      ]
     },
     "execution_count": 74,
     "metadata": {},
     "output_type": "execute_result"
    }
   ],
   "source": [
    "df.head()"
   ]
  },
  {
   "cell_type": "code",
   "execution_count": 75,
   "metadata": {
    "collapsed": false
   },
   "outputs": [
    {
     "data": {
      "text/html": [
       "<div>\n",
       "<table border=\"1\" class=\"dataframe\">\n",
       "  <thead>\n",
       "    <tr style=\"text-align: right;\">\n",
       "      <th></th>\n",
       "      <th>ENTRIESn</th>\n",
       "      <th>EXITSn</th>\n",
       "      <th>ENTRIESn_hourly</th>\n",
       "      <th>EXITSn_hourly</th>\n",
       "      <th>hour</th>\n",
       "      <th>day_week</th>\n",
       "      <th>weekday</th>\n",
       "      <th>latitude</th>\n",
       "      <th>longitude</th>\n",
       "      <th>fog</th>\n",
       "      <th>...</th>\n",
       "      <th>pressurei</th>\n",
       "      <th>rain</th>\n",
       "      <th>tempi</th>\n",
       "      <th>wspdi</th>\n",
       "      <th>meanprecipi</th>\n",
       "      <th>meanpressurei</th>\n",
       "      <th>meantempi</th>\n",
       "      <th>meanwspdi</th>\n",
       "      <th>weather_lat</th>\n",
       "      <th>weather_lon</th>\n",
       "    </tr>\n",
       "  </thead>\n",
       "  <tbody>\n",
       "    <tr>\n",
       "      <th>count</th>\n",
       "      <td>4.264900e+04</td>\n",
       "      <td>4.264900e+04</td>\n",
       "      <td>42649.000000</td>\n",
       "      <td>42649.000000</td>\n",
       "      <td>42649.000000</td>\n",
       "      <td>42649.000000</td>\n",
       "      <td>42649.000000</td>\n",
       "      <td>42649.000000</td>\n",
       "      <td>42649.000000</td>\n",
       "      <td>42649.000000</td>\n",
       "      <td>...</td>\n",
       "      <td>42649.000000</td>\n",
       "      <td>42649.000000</td>\n",
       "      <td>42649.000000</td>\n",
       "      <td>42649.000000</td>\n",
       "      <td>42649.000000</td>\n",
       "      <td>42649.000000</td>\n",
       "      <td>42649.000000</td>\n",
       "      <td>42649.000000</td>\n",
       "      <td>42649.000000</td>\n",
       "      <td>42649.000000</td>\n",
       "    </tr>\n",
       "    <tr>\n",
       "      <th>mean</th>\n",
       "      <td>2.812486e+07</td>\n",
       "      <td>1.986993e+07</td>\n",
       "      <td>1886.589955</td>\n",
       "      <td>1361.487866</td>\n",
       "      <td>10.046754</td>\n",
       "      <td>2.905719</td>\n",
       "      <td>0.714436</td>\n",
       "      <td>40.724647</td>\n",
       "      <td>-73.940364</td>\n",
       "      <td>0.009824</td>\n",
       "      <td>...</td>\n",
       "      <td>29.971096</td>\n",
       "      <td>0.224741</td>\n",
       "      <td>63.103780</td>\n",
       "      <td>6.927872</td>\n",
       "      <td>0.004618</td>\n",
       "      <td>29.971096</td>\n",
       "      <td>63.103780</td>\n",
       "      <td>6.927872</td>\n",
       "      <td>40.728555</td>\n",
       "      <td>-73.938693</td>\n",
       "    </tr>\n",
       "    <tr>\n",
       "      <th>std</th>\n",
       "      <td>3.043607e+07</td>\n",
       "      <td>2.028986e+07</td>\n",
       "      <td>2952.385585</td>\n",
       "      <td>2183.845409</td>\n",
       "      <td>6.938928</td>\n",
       "      <td>2.079231</td>\n",
       "      <td>0.451688</td>\n",
       "      <td>0.071650</td>\n",
       "      <td>0.059713</td>\n",
       "      <td>0.098631</td>\n",
       "      <td>...</td>\n",
       "      <td>0.137942</td>\n",
       "      <td>0.417417</td>\n",
       "      <td>8.455597</td>\n",
       "      <td>4.510178</td>\n",
       "      <td>0.016344</td>\n",
       "      <td>0.131158</td>\n",
       "      <td>6.939011</td>\n",
       "      <td>3.179832</td>\n",
       "      <td>0.065420</td>\n",
       "      <td>0.059582</td>\n",
       "    </tr>\n",
       "    <tr>\n",
       "      <th>min</th>\n",
       "      <td>0.000000e+00</td>\n",
       "      <td>0.000000e+00</td>\n",
       "      <td>0.000000</td>\n",
       "      <td>0.000000</td>\n",
       "      <td>0.000000</td>\n",
       "      <td>0.000000</td>\n",
       "      <td>0.000000</td>\n",
       "      <td>40.576152</td>\n",
       "      <td>-74.073622</td>\n",
       "      <td>0.000000</td>\n",
       "      <td>...</td>\n",
       "      <td>29.550000</td>\n",
       "      <td>0.000000</td>\n",
       "      <td>46.900000</td>\n",
       "      <td>0.000000</td>\n",
       "      <td>0.000000</td>\n",
       "      <td>29.590000</td>\n",
       "      <td>49.400000</td>\n",
       "      <td>0.000000</td>\n",
       "      <td>40.600204</td>\n",
       "      <td>-74.014870</td>\n",
       "    </tr>\n",
       "    <tr>\n",
       "      <th>25%</th>\n",
       "      <td>1.039762e+07</td>\n",
       "      <td>7.613712e+06</td>\n",
       "      <td>274.000000</td>\n",
       "      <td>237.000000</td>\n",
       "      <td>4.000000</td>\n",
       "      <td>1.000000</td>\n",
       "      <td>0.000000</td>\n",
       "      <td>40.677107</td>\n",
       "      <td>-73.987342</td>\n",
       "      <td>0.000000</td>\n",
       "      <td>...</td>\n",
       "      <td>29.890000</td>\n",
       "      <td>0.000000</td>\n",
       "      <td>57.000000</td>\n",
       "      <td>4.600000</td>\n",
       "      <td>0.000000</td>\n",
       "      <td>29.913333</td>\n",
       "      <td>58.283333</td>\n",
       "      <td>4.816667</td>\n",
       "      <td>40.688591</td>\n",
       "      <td>-73.985130</td>\n",
       "    </tr>\n",
       "    <tr>\n",
       "      <th>50%</th>\n",
       "      <td>1.818389e+07</td>\n",
       "      <td>1.331609e+07</td>\n",
       "      <td>905.000000</td>\n",
       "      <td>664.000000</td>\n",
       "      <td>12.000000</td>\n",
       "      <td>3.000000</td>\n",
       "      <td>1.000000</td>\n",
       "      <td>40.717241</td>\n",
       "      <td>-73.953459</td>\n",
       "      <td>0.000000</td>\n",
       "      <td>...</td>\n",
       "      <td>29.960000</td>\n",
       "      <td>0.000000</td>\n",
       "      <td>61.000000</td>\n",
       "      <td>6.900000</td>\n",
       "      <td>0.000000</td>\n",
       "      <td>29.958000</td>\n",
       "      <td>60.950000</td>\n",
       "      <td>6.166667</td>\n",
       "      <td>40.720570</td>\n",
       "      <td>-73.949150</td>\n",
       "    </tr>\n",
       "    <tr>\n",
       "      <th>75%</th>\n",
       "      <td>3.263049e+07</td>\n",
       "      <td>2.393771e+07</td>\n",
       "      <td>2255.000000</td>\n",
       "      <td>1537.000000</td>\n",
       "      <td>16.000000</td>\n",
       "      <td>5.000000</td>\n",
       "      <td>1.000000</td>\n",
       "      <td>40.759123</td>\n",
       "      <td>-73.907733</td>\n",
       "      <td>0.000000</td>\n",
       "      <td>...</td>\n",
       "      <td>30.060000</td>\n",
       "      <td>0.000000</td>\n",
       "      <td>69.100000</td>\n",
       "      <td>9.200000</td>\n",
       "      <td>0.000000</td>\n",
       "      <td>30.060000</td>\n",
       "      <td>67.466667</td>\n",
       "      <td>8.850000</td>\n",
       "      <td>40.755226</td>\n",
       "      <td>-73.912033</td>\n",
       "    </tr>\n",
       "    <tr>\n",
       "      <th>max</th>\n",
       "      <td>2.357746e+08</td>\n",
       "      <td>1.493782e+08</td>\n",
       "      <td>32814.000000</td>\n",
       "      <td>34828.000000</td>\n",
       "      <td>20.000000</td>\n",
       "      <td>6.000000</td>\n",
       "      <td>1.000000</td>\n",
       "      <td>40.889185</td>\n",
       "      <td>-73.755383</td>\n",
       "      <td>1.000000</td>\n",
       "      <td>...</td>\n",
       "      <td>30.320000</td>\n",
       "      <td>1.000000</td>\n",
       "      <td>86.000000</td>\n",
       "      <td>23.000000</td>\n",
       "      <td>0.157500</td>\n",
       "      <td>30.293333</td>\n",
       "      <td>79.800000</td>\n",
       "      <td>17.083333</td>\n",
       "      <td>40.862064</td>\n",
       "      <td>-73.694176</td>\n",
       "    </tr>\n",
       "  </tbody>\n",
       "</table>\n",
       "<p>8 rows × 21 columns</p>\n",
       "</div>"
      ],
      "text/plain": [
       "           ENTRIESn        EXITSn  ENTRIESn_hourly  EXITSn_hourly  \\\n",
       "count  4.264900e+04  4.264900e+04     42649.000000   42649.000000   \n",
       "mean   2.812486e+07  1.986993e+07      1886.589955    1361.487866   \n",
       "std    3.043607e+07  2.028986e+07      2952.385585    2183.845409   \n",
       "min    0.000000e+00  0.000000e+00         0.000000       0.000000   \n",
       "25%    1.039762e+07  7.613712e+06       274.000000     237.000000   \n",
       "50%    1.818389e+07  1.331609e+07       905.000000     664.000000   \n",
       "75%    3.263049e+07  2.393771e+07      2255.000000    1537.000000   \n",
       "max    2.357746e+08  1.493782e+08     32814.000000   34828.000000   \n",
       "\n",
       "               hour      day_week       weekday      latitude     longitude  \\\n",
       "count  42649.000000  42649.000000  42649.000000  42649.000000  42649.000000   \n",
       "mean      10.046754      2.905719      0.714436     40.724647    -73.940364   \n",
       "std        6.938928      2.079231      0.451688      0.071650      0.059713   \n",
       "min        0.000000      0.000000      0.000000     40.576152    -74.073622   \n",
       "25%        4.000000      1.000000      0.000000     40.677107    -73.987342   \n",
       "50%       12.000000      3.000000      1.000000     40.717241    -73.953459   \n",
       "75%       16.000000      5.000000      1.000000     40.759123    -73.907733   \n",
       "max       20.000000      6.000000      1.000000     40.889185    -73.755383   \n",
       "\n",
       "                fog      ...          pressurei          rain         tempi  \\\n",
       "count  42649.000000      ...       42649.000000  42649.000000  42649.000000   \n",
       "mean       0.009824      ...          29.971096      0.224741     63.103780   \n",
       "std        0.098631      ...           0.137942      0.417417      8.455597   \n",
       "min        0.000000      ...          29.550000      0.000000     46.900000   \n",
       "25%        0.000000      ...          29.890000      0.000000     57.000000   \n",
       "50%        0.000000      ...          29.960000      0.000000     61.000000   \n",
       "75%        0.000000      ...          30.060000      0.000000     69.100000   \n",
       "max        1.000000      ...          30.320000      1.000000     86.000000   \n",
       "\n",
       "              wspdi   meanprecipi  meanpressurei     meantempi     meanwspdi  \\\n",
       "count  42649.000000  42649.000000   42649.000000  42649.000000  42649.000000   \n",
       "mean       6.927872      0.004618      29.971096     63.103780      6.927872   \n",
       "std        4.510178      0.016344       0.131158      6.939011      3.179832   \n",
       "min        0.000000      0.000000      29.590000     49.400000      0.000000   \n",
       "25%        4.600000      0.000000      29.913333     58.283333      4.816667   \n",
       "50%        6.900000      0.000000      29.958000     60.950000      6.166667   \n",
       "75%        9.200000      0.000000      30.060000     67.466667      8.850000   \n",
       "max       23.000000      0.157500      30.293333     79.800000     17.083333   \n",
       "\n",
       "        weather_lat   weather_lon  \n",
       "count  42649.000000  42649.000000  \n",
       "mean      40.728555    -73.938693  \n",
       "std        0.065420      0.059582  \n",
       "min       40.600204    -74.014870  \n",
       "25%       40.688591    -73.985130  \n",
       "50%       40.720570    -73.949150  \n",
       "75%       40.755226    -73.912033  \n",
       "max       40.862064    -73.694176  \n",
       "\n",
       "[8 rows x 21 columns]"
      ]
     },
     "execution_count": 75,
     "metadata": {},
     "output_type": "execute_result"
    }
   ],
   "source": [
    "df.describe()"
   ]
  },
  {
   "cell_type": "code",
   "execution_count": 76,
   "metadata": {
    "collapsed": true
   },
   "outputs": [],
   "source": [
    "# Pearson R \n",
    "# ddof = 0 -> uncorrected (sample)\n",
    "def p_r(x, y):\n",
    "    return ((x - x.mean()) / x.std(ddof=0) * (y - y.mean()) / y.std(ddof=0)).mean()"
   ]
  },
  {
   "cell_type": "code",
   "execution_count": 77,
   "metadata": {
    "collapsed": true
   },
   "outputs": [],
   "source": [
    "# axis = 'index' axis='columns'\n",
    "# add two df -> all match ok, unmatched nan"
   ]
  },
  {
   "cell_type": "code",
   "execution_count": 78,
   "metadata": {
    "collapsed": true
   },
   "outputs": [],
   "source": [
    "entries_and_exits = pd.DataFrame({\n",
    "    'ENTRIESn': [3144312, 3144335, 3144353, 3144424, 3144594,\n",
    "                 3144808, 3144895, 3144905, 3144941, 3145094],\n",
    "    'EXITSn': [1088151, 1088159, 1088177, 1088231, 1088275,\n",
    "               1088317, 1088328, 1088331, 1088420, 1088753]\n",
    "})\n"
   ]
  },
  {
   "cell_type": "code",
   "execution_count": 83,
   "metadata": {
    "collapsed": false
   },
   "outputs": [],
   "source": [
    "shifted = entries_and_exits.loc[1:, :]"
   ]
  },
  {
   "cell_type": "code",
   "execution_count": null,
   "metadata": {
    "collapsed": true
   },
   "outputs": [],
   "source": []
  },
  {
   "cell_type": "code",
   "execution_count": 91,
   "metadata": {
    "collapsed": false
   },
   "outputs": [],
   "source": [
    "shifted.index = shifted.index.values - 1"
   ]
  },
  {
   "cell_type": "code",
   "execution_count": 94,
   "metadata": {
    "collapsed": false
   },
   "outputs": [
    {
     "data": {
      "text/html": [
       "<div>\n",
       "<table border=\"1\" class=\"dataframe\">\n",
       "  <thead>\n",
       "    <tr style=\"text-align: right;\">\n",
       "      <th></th>\n",
       "      <th>ENTRIESn</th>\n",
       "      <th>EXITSn</th>\n",
       "    </tr>\n",
       "  </thead>\n",
       "  <tbody>\n",
       "    <tr>\n",
       "      <th>0</th>\n",
       "      <td>23.0</td>\n",
       "      <td>8.0</td>\n",
       "    </tr>\n",
       "    <tr>\n",
       "      <th>1</th>\n",
       "      <td>18.0</td>\n",
       "      <td>18.0</td>\n",
       "    </tr>\n",
       "    <tr>\n",
       "      <th>2</th>\n",
       "      <td>71.0</td>\n",
       "      <td>54.0</td>\n",
       "    </tr>\n",
       "    <tr>\n",
       "      <th>3</th>\n",
       "      <td>170.0</td>\n",
       "      <td>44.0</td>\n",
       "    </tr>\n",
       "    <tr>\n",
       "      <th>4</th>\n",
       "      <td>214.0</td>\n",
       "      <td>42.0</td>\n",
       "    </tr>\n",
       "    <tr>\n",
       "      <th>5</th>\n",
       "      <td>87.0</td>\n",
       "      <td>11.0</td>\n",
       "    </tr>\n",
       "    <tr>\n",
       "      <th>6</th>\n",
       "      <td>10.0</td>\n",
       "      <td>3.0</td>\n",
       "    </tr>\n",
       "    <tr>\n",
       "      <th>7</th>\n",
       "      <td>36.0</td>\n",
       "      <td>89.0</td>\n",
       "    </tr>\n",
       "    <tr>\n",
       "      <th>8</th>\n",
       "      <td>153.0</td>\n",
       "      <td>333.0</td>\n",
       "    </tr>\n",
       "    <tr>\n",
       "      <th>9</th>\n",
       "      <td>NaN</td>\n",
       "      <td>NaN</td>\n",
       "    </tr>\n",
       "  </tbody>\n",
       "</table>\n",
       "</div>"
      ],
      "text/plain": [
       "   ENTRIESn  EXITSn\n",
       "0      23.0     8.0\n",
       "1      18.0    18.0\n",
       "2      71.0    54.0\n",
       "3     170.0    44.0\n",
       "4     214.0    42.0\n",
       "5      87.0    11.0\n",
       "6      10.0     3.0\n",
       "7      36.0    89.0\n",
       "8     153.0   333.0\n",
       "9       NaN     NaN"
      ]
     },
     "execution_count": 94,
     "metadata": {},
     "output_type": "execute_result"
    }
   ],
   "source": [
    "shifted - entries_and_exits"
   ]
  },
  {
   "cell_type": "code",
   "execution_count": 96,
   "metadata": {
    "collapsed": false
   },
   "outputs": [
    {
     "data": {
      "text/html": [
       "<div>\n",
       "<table border=\"1\" class=\"dataframe\">\n",
       "  <thead>\n",
       "    <tr style=\"text-align: right;\">\n",
       "      <th></th>\n",
       "      <th>ENTRIESn</th>\n",
       "      <th>EXITSn</th>\n",
       "    </tr>\n",
       "  </thead>\n",
       "  <tbody>\n",
       "    <tr>\n",
       "      <th>0</th>\n",
       "      <td>3144335.0</td>\n",
       "      <td>1088159.0</td>\n",
       "    </tr>\n",
       "    <tr>\n",
       "      <th>1</th>\n",
       "      <td>3144353.0</td>\n",
       "      <td>1088177.0</td>\n",
       "    </tr>\n",
       "    <tr>\n",
       "      <th>2</th>\n",
       "      <td>3144424.0</td>\n",
       "      <td>1088231.0</td>\n",
       "    </tr>\n",
       "    <tr>\n",
       "      <th>3</th>\n",
       "      <td>3144594.0</td>\n",
       "      <td>1088275.0</td>\n",
       "    </tr>\n",
       "    <tr>\n",
       "      <th>4</th>\n",
       "      <td>3144808.0</td>\n",
       "      <td>1088317.0</td>\n",
       "    </tr>\n",
       "    <tr>\n",
       "      <th>5</th>\n",
       "      <td>3144895.0</td>\n",
       "      <td>1088328.0</td>\n",
       "    </tr>\n",
       "    <tr>\n",
       "      <th>6</th>\n",
       "      <td>3144905.0</td>\n",
       "      <td>1088331.0</td>\n",
       "    </tr>\n",
       "    <tr>\n",
       "      <th>7</th>\n",
       "      <td>3144941.0</td>\n",
       "      <td>1088420.0</td>\n",
       "    </tr>\n",
       "    <tr>\n",
       "      <th>8</th>\n",
       "      <td>3145094.0</td>\n",
       "      <td>1088753.0</td>\n",
       "    </tr>\n",
       "    <tr>\n",
       "      <th>9</th>\n",
       "      <td>NaN</td>\n",
       "      <td>NaN</td>\n",
       "    </tr>\n",
       "  </tbody>\n",
       "</table>\n",
       "</div>"
      ],
      "text/plain": [
       "    ENTRIESn     EXITSn\n",
       "0  3144335.0  1088159.0\n",
       "1  3144353.0  1088177.0\n",
       "2  3144424.0  1088231.0\n",
       "3  3144594.0  1088275.0\n",
       "4  3144808.0  1088317.0\n",
       "5  3144895.0  1088328.0\n",
       "6  3144905.0  1088331.0\n",
       "7  3144941.0  1088420.0\n",
       "8  3145094.0  1088753.0\n",
       "9        NaN        NaN"
      ]
     },
     "execution_count": 96,
     "metadata": {},
     "output_type": "execute_result"
    }
   ],
   "source": [
    "# :) Use shift function by df LOL\n",
    "entries_and_exits.shift(-1)"
   ]
  },
  {
   "cell_type": "code",
   "execution_count": null,
   "metadata": {
    "collapsed": true
   },
   "outputs": [],
   "source": [
    "    # qcut() operates on a list, array, or Series. This is the\n",
    "    # result of running the function on a single column of the\n",
    "    # DataFrame.\n",
    "        return pd.qcut(exam_grades,\n",
    "                       [0, 0.1, 0.2, 0.5, 0.8, 1],\n",
    "                       labels=['F', 'D', 'C', 'B', 'A'])\n"
   ]
  },
  {
   "cell_type": "code",
   "execution_count": 97,
   "metadata": {
    "collapsed": true
   },
   "outputs": [],
   "source": [
    "# applymap on each element of the dataframe\n",
    "# apply"
   ]
  },
  {
   "cell_type": "code",
   "execution_count": 100,
   "metadata": {
    "collapsed": false
   },
   "outputs": [
    {
     "data": {
      "text/plain": [
       "3144335"
      ]
     },
     "execution_count": 100,
     "metadata": {},
     "output_type": "execute_result"
    }
   ],
   "source": [
    "entries_and_exits['ENTRIESn'].sort_values(ascending=False)[1]"
   ]
  },
  {
   "cell_type": "code",
   "execution_count": 101,
   "metadata": {
    "collapsed": true
   },
   "outputs": [],
   "source": [
    "entries_and_exits.sub"
   ]
  },
  {
   "cell_type": "code",
   "execution_count": 194,
   "metadata": {
    "collapsed": false
   },
   "outputs": [],
   "source": [
    "columns = [\"UNIT\", \"ENTRIESn\", \"EXITSn\"]\n",
    "df = pd.read_csv(\"nyc_subway_weather.csv\")"
   ]
  },
  {
   "cell_type": "code",
   "execution_count": 180,
   "metadata": {
    "collapsed": false
   },
   "outputs": [],
   "source": [
    "ndf = df[columns].groupby(['fog']).sum()"
   ]
  },
  {
   "cell_type": "code",
   "execution_count": 185,
   "metadata": {
    "collapsed": false
   },
   "outputs": [
    {
     "data": {
      "text/plain": [
       "array([<matplotlib.axes._subplots.AxesSubplot object at 0x114632f10>,\n",
       "       <matplotlib.axes._subplots.AxesSubplot object at 0x114bf9f90>], dtype=object)"
      ]
     },
     "execution_count": 185,
     "metadata": {},
     "output_type": "execute_result"
    },
    {
     "data": {
      "image/png": "[encoded data removed]",
      "text/plain": [
       "<matplotlib.figure.Figure at 0x114880750>"
      ]
     },
     "metadata": {
      "image/png": {
       "height": 330,
       "width": 506
      }
     },
     "output_type": "display_data"
    }
   ],
   "source": [
    "ndf.plot.pie(subplots=True)"
   ]
  },
  {
   "cell_type": "code",
   "execution_count": 195,
   "metadata": {
    "collapsed": false
   },
   "outputs": [],
   "source": [
    "group = df[columns].groupby('UNIT')"
   ]
  },
  {
   "cell_type": "code",
   "execution_count": 202,
   "metadata": {
    "collapsed": false
   },
   "outputs": [
    {
     "name": "stdout",
     "output_type": "stream",
     "text": [
      "0        R003\n",
      "168      R004\n",
      "343      R005\n",
      "515      R006\n",
      "695      R007\n",
      "865      R008\n",
      "1034     R009\n",
      "1209     R011\n",
      "1393     R012\n",
      "1579     R013\n",
      "1765     R016\n",
      "1949     R017\n",
      "2135     R018\n",
      "2320     R019\n",
      "2506     R020\n",
      "2692     R021\n",
      "2876     R022\n",
      "3062     R023\n",
      "3248     R024\n",
      "3433     R025\n",
      "3619     R027\n",
      "3805     R029\n",
      "3991     R030\n",
      "4177     R031\n",
      "4363     R032\n",
      "4548     R033\n",
      "4734     R034\n",
      "4904     R035\n",
      "5088     R036\n",
      "5265     R037\n",
      "         ... \n",
      "37569    R321\n",
      "37755    R322\n",
      "37934    R323\n",
      "38106    R325\n",
      "38281    R330\n",
      "38458    R335\n",
      "38622    R336\n",
      "38786    R337\n",
      "38954    R338\n",
      "39128    R341\n",
      "39311    R344\n",
      "39475    R345\n",
      "39650    R346\n",
      "39824    R348\n",
      "39998    R354\n",
      "40165    R356\n",
      "40341    R358\n",
      "40508    R370\n",
      "40684    R371\n",
      "40856    R372\n",
      "41025    R373\n",
      "41193    R382\n",
      "41370    R424\n",
      "41535    R429\n",
      "41718    R453\n",
      "41880    R454\n",
      "42047    R455\n",
      "42215    R456\n",
      "42392    R459\n",
      "42480    R464\n",
      "Name: UNIT, dtype: object\n",
      "0        R003\n",
      "168      R004\n",
      "343      R005\n",
      "515      R006\n",
      "695      R007\n",
      "865      R008\n",
      "1034     R009\n",
      "1209     R011\n",
      "1393     R012\n",
      "1579     R013\n",
      "1765     R016\n",
      "1949     R017\n",
      "2135     R018\n",
      "2320     R019\n",
      "2506     R020\n",
      "2692     R021\n",
      "2876     R022\n",
      "3062     R023\n",
      "3248     R024\n",
      "3433     R025\n",
      "3619     R027\n",
      "3805     R029\n",
      "3991     R030\n",
      "4177     R031\n",
      "4363     R032\n",
      "4548     R033\n",
      "4734     R034\n",
      "4904     R035\n",
      "5088     R036\n",
      "5265     R037\n",
      "         ... \n",
      "37569    R321\n",
      "37755    R322\n",
      "37934    R323\n",
      "38106    R325\n",
      "38281    R330\n",
      "38458    R335\n",
      "38622    R336\n",
      "38786    R337\n",
      "38954    R338\n",
      "39128    R341\n",
      "39311    R344\n",
      "39475    R345\n",
      "39650    R346\n",
      "39824    R348\n",
      "39998    R354\n",
      "40165    R356\n",
      "40341    R358\n",
      "40508    R370\n",
      "40684    R371\n",
      "40856    R372\n",
      "41025    R373\n",
      "41193    R382\n",
      "41370    R424\n",
      "41535    R429\n",
      "41718    R453\n",
      "41880    R454\n",
      "42047    R455\n",
      "42215    R456\n",
      "42392    R459\n",
      "42480    R464\n",
      "Name: UNIT, dtype: object\n",
      "0          4388333\n",
      "168       14656120\n",
      "343       13399891\n",
      "515       11203747\n",
      "695        8838474\n",
      "865       11252788\n",
      "1034       4623736\n",
      "1209     166978350\n",
      "1393     181302968\n",
      "1579      31214400\n",
      "1765      24538591\n",
      "1949     103970035\n",
      "2135      89822701\n",
      "2320      80179864\n",
      "2506     118032724\n",
      "2692      80860939\n",
      "2876     148381030\n",
      "3062      96426117\n",
      "3248      36631169\n",
      "3433      76158398\n",
      "3619      85984978\n",
      "3805     115284049\n",
      "3991      45530189\n",
      "4177      81538943\n",
      "4363      34141261\n",
      "4548     114298855\n",
      "4734      10423323\n",
      "4904      50741288\n",
      "5088      27069423\n",
      "5265      18300405\n",
      "           ...    \n",
      "37569     34066891\n",
      "37755     15279216\n",
      "37934     13028218\n",
      "38106      4634479\n",
      "38281     12805029\n",
      "38458      6384136\n",
      "38622      5716814\n",
      "38786      1603997\n",
      "38954      1464671\n",
      "39128      7823039\n",
      "39311      7040005\n",
      "39475      6929932\n",
      "39650     16027805\n",
      "39824       606161\n",
      "39998      3755722\n",
      "40165     11516529\n",
      "40341      4568731\n",
      "40508     16327991\n",
      "40684     17817907\n",
      "40856     13986728\n",
      "41025     10350536\n",
      "41193     20670125\n",
      "41370     11844361\n",
      "41535     23819150\n",
      "41718     15960095\n",
      "41880      4020948\n",
      "42047      4287371\n",
      "42215      5393612\n",
      "42392       539504\n",
      "42480       419894\n",
      "Name: ENTRIESn, dtype: int64\n",
      "0          2911002\n",
      "168       14451774\n",
      "343       12918315\n",
      "515       10009575\n",
      "695        8867037\n",
      "865       11124233\n",
      "1034       4301606\n",
      "1209      75355595\n",
      "1393     110830447\n",
      "1579      42965863\n",
      "1765      28371245\n",
      "1949      75262052\n",
      "2135      69487005\n",
      "2320      44169974\n",
      "2506      96940172\n",
      "2692      77289187\n",
      "2876     112789339\n",
      "3062      47164271\n",
      "3248      34171439\n",
      "3433      29836436\n",
      "3619      77051041\n",
      "3805      72106771\n",
      "3991      43046835\n",
      "4177      48257236\n",
      "4363      51257461\n",
      "4548      56203965\n",
      "4734      10257701\n",
      "4904      18462709\n",
      "5088      11821983\n",
      "5265       3438008\n",
      "           ...    \n",
      "37569     18288224\n",
      "37755     18411501\n",
      "37934      7833526\n",
      "38106      4832044\n",
      "38281     13140497\n",
      "38458      5950173\n",
      "38622      6222480\n",
      "38786      2238929\n",
      "38954       783790\n",
      "39128      1157098\n",
      "39311       383404\n",
      "39475      5425492\n",
      "39650     11717601\n",
      "39824       222867\n",
      "39998      3324208\n",
      "40165     10537995\n",
      "40341      4963626\n",
      "40508      9702545\n",
      "40684     10093662\n",
      "40856     11712576\n",
      "41025     12266277\n",
      "41193     16480920\n",
      "41370      9948082\n",
      "41535     19456559\n",
      "41718     19466588\n",
      "41880     15033736\n",
      "42047     10654541\n",
      "42215     12117900\n",
      "42392        29284\n",
      "42480        95280\n",
      "Name: EXITSn, dtype: int64\n"
     ]
    },
    {
     "data": {
      "text/html": [
       "<div>\n",
       "<table border=\"1\" class=\"dataframe\">\n",
       "  <thead>\n",
       "    <tr style=\"text-align: right;\">\n",
       "      <th></th>\n",
       "      <th>UNIT</th>\n",
       "      <th>ENTRIESn</th>\n",
       "      <th>EXITSn</th>\n",
       "    </tr>\n",
       "  </thead>\n",
       "  <tbody>\n",
       "    <tr>\n",
       "      <th>0</th>\n",
       "      <td>R003</td>\n",
       "      <td>4388333</td>\n",
       "      <td>2911002</td>\n",
       "    </tr>\n",
       "    <tr>\n",
       "      <th>168</th>\n",
       "      <td>R004</td>\n",
       "      <td>14656120</td>\n",
       "      <td>14451774</td>\n",
       "    </tr>\n",
       "    <tr>\n",
       "      <th>343</th>\n",
       "      <td>R005</td>\n",
       "      <td>13399891</td>\n",
       "      <td>12918315</td>\n",
       "    </tr>\n",
       "    <tr>\n",
       "      <th>515</th>\n",
       "      <td>R006</td>\n",
       "      <td>11203747</td>\n",
       "      <td>10009575</td>\n",
       "    </tr>\n",
       "    <tr>\n",
       "      <th>695</th>\n",
       "      <td>R007</td>\n",
       "      <td>8838474</td>\n",
       "      <td>8867037</td>\n",
       "    </tr>\n",
       "    <tr>\n",
       "      <th>865</th>\n",
       "      <td>R008</td>\n",
       "      <td>11252788</td>\n",
       "      <td>11124233</td>\n",
       "    </tr>\n",
       "    <tr>\n",
       "      <th>1034</th>\n",
       "      <td>R009</td>\n",
       "      <td>4623736</td>\n",
       "      <td>4301606</td>\n",
       "    </tr>\n",
       "    <tr>\n",
       "      <th>1209</th>\n",
       "      <td>R011</td>\n",
       "      <td>166978350</td>\n",
       "      <td>75355595</td>\n",
       "    </tr>\n",
       "    <tr>\n",
       "      <th>1393</th>\n",
       "      <td>R012</td>\n",
       "      <td>181302968</td>\n",
       "      <td>110830447</td>\n",
       "    </tr>\n",
       "    <tr>\n",
       "      <th>1579</th>\n",
       "      <td>R013</td>\n",
       "      <td>31214400</td>\n",
       "      <td>42965863</td>\n",
       "    </tr>\n",
       "    <tr>\n",
       "      <th>1765</th>\n",
       "      <td>R016</td>\n",
       "      <td>24538591</td>\n",
       "      <td>28371245</td>\n",
       "    </tr>\n",
       "    <tr>\n",
       "      <th>1949</th>\n",
       "      <td>R017</td>\n",
       "      <td>103970035</td>\n",
       "      <td>75262052</td>\n",
       "    </tr>\n",
       "    <tr>\n",
       "      <th>2135</th>\n",
       "      <td>R018</td>\n",
       "      <td>89822701</td>\n",
       "      <td>69487005</td>\n",
       "    </tr>\n",
       "    <tr>\n",
       "      <th>2320</th>\n",
       "      <td>R019</td>\n",
       "      <td>80179864</td>\n",
       "      <td>44169974</td>\n",
       "    </tr>\n",
       "    <tr>\n",
       "      <th>2506</th>\n",
       "      <td>R020</td>\n",
       "      <td>118032724</td>\n",
       "      <td>96940172</td>\n",
       "    </tr>\n",
       "    <tr>\n",
       "      <th>2692</th>\n",
       "      <td>R021</td>\n",
       "      <td>80860939</td>\n",
       "      <td>77289187</td>\n",
       "    </tr>\n",
       "    <tr>\n",
       "      <th>2876</th>\n",
       "      <td>R022</td>\n",
       "      <td>148381030</td>\n",
       "      <td>112789339</td>\n",
       "    </tr>\n",
       "    <tr>\n",
       "      <th>3062</th>\n",
       "      <td>R023</td>\n",
       "      <td>96426117</td>\n",
       "      <td>47164271</td>\n",
       "    </tr>\n",
       "    <tr>\n",
       "      <th>3248</th>\n",
       "      <td>R024</td>\n",
       "      <td>36631169</td>\n",
       "      <td>34171439</td>\n",
       "    </tr>\n",
       "    <tr>\n",
       "      <th>3433</th>\n",
       "      <td>R025</td>\n",
       "      <td>76158398</td>\n",
       "      <td>29836436</td>\n",
       "    </tr>\n",
       "    <tr>\n",
       "      <th>3619</th>\n",
       "      <td>R027</td>\n",
       "      <td>85984978</td>\n",
       "      <td>77051041</td>\n",
       "    </tr>\n",
       "    <tr>\n",
       "      <th>3805</th>\n",
       "      <td>R029</td>\n",
       "      <td>115284049</td>\n",
       "      <td>72106771</td>\n",
       "    </tr>\n",
       "    <tr>\n",
       "      <th>3991</th>\n",
       "      <td>R030</td>\n",
       "      <td>45530189</td>\n",
       "      <td>43046835</td>\n",
       "    </tr>\n",
       "    <tr>\n",
       "      <th>4177</th>\n",
       "      <td>R031</td>\n",
       "      <td>81538943</td>\n",
       "      <td>48257236</td>\n",
       "    </tr>\n",
       "    <tr>\n",
       "      <th>4363</th>\n",
       "      <td>R032</td>\n",
       "      <td>34141261</td>\n",
       "      <td>51257461</td>\n",
       "    </tr>\n",
       "    <tr>\n",
       "      <th>4548</th>\n",
       "      <td>R033</td>\n",
       "      <td>114298855</td>\n",
       "      <td>56203965</td>\n",
       "    </tr>\n",
       "    <tr>\n",
       "      <th>4734</th>\n",
       "      <td>R034</td>\n",
       "      <td>10423323</td>\n",
       "      <td>10257701</td>\n",
       "    </tr>\n",
       "    <tr>\n",
       "      <th>4904</th>\n",
       "      <td>R035</td>\n",
       "      <td>50741288</td>\n",
       "      <td>18462709</td>\n",
       "    </tr>\n",
       "    <tr>\n",
       "      <th>5088</th>\n",
       "      <td>R036</td>\n",
       "      <td>27069423</td>\n",
       "      <td>11821983</td>\n",
       "    </tr>\n",
       "    <tr>\n",
       "      <th>5265</th>\n",
       "      <td>R037</td>\n",
       "      <td>18300405</td>\n",
       "      <td>3438008</td>\n",
       "    </tr>\n",
       "    <tr>\n",
       "      <th>...</th>\n",
       "      <td>...</td>\n",
       "      <td>...</td>\n",
       "      <td>...</td>\n",
       "    </tr>\n",
       "    <tr>\n",
       "      <th>37569</th>\n",
       "      <td>R321</td>\n",
       "      <td>34066891</td>\n",
       "      <td>18288224</td>\n",
       "    </tr>\n",
       "    <tr>\n",
       "      <th>37755</th>\n",
       "      <td>R322</td>\n",
       "      <td>15279216</td>\n",
       "      <td>18411501</td>\n",
       "    </tr>\n",
       "    <tr>\n",
       "      <th>37934</th>\n",
       "      <td>R323</td>\n",
       "      <td>13028218</td>\n",
       "      <td>7833526</td>\n",
       "    </tr>\n",
       "    <tr>\n",
       "      <th>38106</th>\n",
       "      <td>R325</td>\n",
       "      <td>4634479</td>\n",
       "      <td>4832044</td>\n",
       "    </tr>\n",
       "    <tr>\n",
       "      <th>38281</th>\n",
       "      <td>R330</td>\n",
       "      <td>12805029</td>\n",
       "      <td>13140497</td>\n",
       "    </tr>\n",
       "    <tr>\n",
       "      <th>38458</th>\n",
       "      <td>R335</td>\n",
       "      <td>6384136</td>\n",
       "      <td>5950173</td>\n",
       "    </tr>\n",
       "    <tr>\n",
       "      <th>38622</th>\n",
       "      <td>R336</td>\n",
       "      <td>5716814</td>\n",
       "      <td>6222480</td>\n",
       "    </tr>\n",
       "    <tr>\n",
       "      <th>38786</th>\n",
       "      <td>R337</td>\n",
       "      <td>1603997</td>\n",
       "      <td>2238929</td>\n",
       "    </tr>\n",
       "    <tr>\n",
       "      <th>38954</th>\n",
       "      <td>R338</td>\n",
       "      <td>1464671</td>\n",
       "      <td>783790</td>\n",
       "    </tr>\n",
       "    <tr>\n",
       "      <th>39128</th>\n",
       "      <td>R341</td>\n",
       "      <td>7823039</td>\n",
       "      <td>1157098</td>\n",
       "    </tr>\n",
       "    <tr>\n",
       "      <th>39311</th>\n",
       "      <td>R344</td>\n",
       "      <td>7040005</td>\n",
       "      <td>383404</td>\n",
       "    </tr>\n",
       "    <tr>\n",
       "      <th>39475</th>\n",
       "      <td>R345</td>\n",
       "      <td>6929932</td>\n",
       "      <td>5425492</td>\n",
       "    </tr>\n",
       "    <tr>\n",
       "      <th>39650</th>\n",
       "      <td>R346</td>\n",
       "      <td>16027805</td>\n",
       "      <td>11717601</td>\n",
       "    </tr>\n",
       "    <tr>\n",
       "      <th>39824</th>\n",
       "      <td>R348</td>\n",
       "      <td>606161</td>\n",
       "      <td>222867</td>\n",
       "    </tr>\n",
       "    <tr>\n",
       "      <th>39998</th>\n",
       "      <td>R354</td>\n",
       "      <td>3755722</td>\n",
       "      <td>3324208</td>\n",
       "    </tr>\n",
       "    <tr>\n",
       "      <th>40165</th>\n",
       "      <td>R356</td>\n",
       "      <td>11516529</td>\n",
       "      <td>10537995</td>\n",
       "    </tr>\n",
       "    <tr>\n",
       "      <th>40341</th>\n",
       "      <td>R358</td>\n",
       "      <td>4568731</td>\n",
       "      <td>4963626</td>\n",
       "    </tr>\n",
       "    <tr>\n",
       "      <th>40508</th>\n",
       "      <td>R370</td>\n",
       "      <td>16327991</td>\n",
       "      <td>9702545</td>\n",
       "    </tr>\n",
       "    <tr>\n",
       "      <th>40684</th>\n",
       "      <td>R371</td>\n",
       "      <td>17817907</td>\n",
       "      <td>10093662</td>\n",
       "    </tr>\n",
       "    <tr>\n",
       "      <th>40856</th>\n",
       "      <td>R372</td>\n",
       "      <td>13986728</td>\n",
       "      <td>11712576</td>\n",
       "    </tr>\n",
       "    <tr>\n",
       "      <th>41025</th>\n",
       "      <td>R373</td>\n",
       "      <td>10350536</td>\n",
       "      <td>12266277</td>\n",
       "    </tr>\n",
       "    <tr>\n",
       "      <th>41193</th>\n",
       "      <td>R382</td>\n",
       "      <td>20670125</td>\n",
       "      <td>16480920</td>\n",
       "    </tr>\n",
       "    <tr>\n",
       "      <th>41370</th>\n",
       "      <td>R424</td>\n",
       "      <td>11844361</td>\n",
       "      <td>9948082</td>\n",
       "    </tr>\n",
       "    <tr>\n",
       "      <th>41535</th>\n",
       "      <td>R429</td>\n",
       "      <td>23819150</td>\n",
       "      <td>19456559</td>\n",
       "    </tr>\n",
       "    <tr>\n",
       "      <th>41718</th>\n",
       "      <td>R453</td>\n",
       "      <td>15960095</td>\n",
       "      <td>19466588</td>\n",
       "    </tr>\n",
       "    <tr>\n",
       "      <th>41880</th>\n",
       "      <td>R454</td>\n",
       "      <td>4020948</td>\n",
       "      <td>15033736</td>\n",
       "    </tr>\n",
       "    <tr>\n",
       "      <th>42047</th>\n",
       "      <td>R455</td>\n",
       "      <td>4287371</td>\n",
       "      <td>10654541</td>\n",
       "    </tr>\n",
       "    <tr>\n",
       "      <th>42215</th>\n",
       "      <td>R456</td>\n",
       "      <td>5393612</td>\n",
       "      <td>12117900</td>\n",
       "    </tr>\n",
       "    <tr>\n",
       "      <th>42392</th>\n",
       "      <td>R459</td>\n",
       "      <td>539504</td>\n",
       "      <td>29284</td>\n",
       "    </tr>\n",
       "    <tr>\n",
       "      <th>42480</th>\n",
       "      <td>R464</td>\n",
       "      <td>419894</td>\n",
       "      <td>95280</td>\n",
       "    </tr>\n",
       "  </tbody>\n",
       "</table>\n",
       "<p>240 rows × 3 columns</p>\n",
       "</div>"
      ],
      "text/plain": [
       "       UNIT   ENTRIESn     EXITSn\n",
       "0      R003    4388333    2911002\n",
       "168    R004   14656120   14451774\n",
       "343    R005   13399891   12918315\n",
       "515    R006   11203747   10009575\n",
       "695    R007    8838474    8867037\n",
       "865    R008   11252788   11124233\n",
       "1034   R009    4623736    4301606\n",
       "1209   R011  166978350   75355595\n",
       "1393   R012  181302968  110830447\n",
       "1579   R013   31214400   42965863\n",
       "1765   R016   24538591   28371245\n",
       "1949   R017  103970035   75262052\n",
       "2135   R018   89822701   69487005\n",
       "2320   R019   80179864   44169974\n",
       "2506   R020  118032724   96940172\n",
       "2692   R021   80860939   77289187\n",
       "2876   R022  148381030  112789339\n",
       "3062   R023   96426117   47164271\n",
       "3248   R024   36631169   34171439\n",
       "3433   R025   76158398   29836436\n",
       "3619   R027   85984978   77051041\n",
       "3805   R029  115284049   72106771\n",
       "3991   R030   45530189   43046835\n",
       "4177   R031   81538943   48257236\n",
       "4363   R032   34141261   51257461\n",
       "4548   R033  114298855   56203965\n",
       "4734   R034   10423323   10257701\n",
       "4904   R035   50741288   18462709\n",
       "5088   R036   27069423   11821983\n",
       "5265   R037   18300405    3438008\n",
       "...     ...        ...        ...\n",
       "37569  R321   34066891   18288224\n",
       "37755  R322   15279216   18411501\n",
       "37934  R323   13028218    7833526\n",
       "38106  R325    4634479    4832044\n",
       "38281  R330   12805029   13140497\n",
       "38458  R335    6384136    5950173\n",
       "38622  R336    5716814    6222480\n",
       "38786  R337    1603997    2238929\n",
       "38954  R338    1464671     783790\n",
       "39128  R341    7823039    1157098\n",
       "39311  R344    7040005     383404\n",
       "39475  R345    6929932    5425492\n",
       "39650  R346   16027805   11717601\n",
       "39824  R348     606161     222867\n",
       "39998  R354    3755722    3324208\n",
       "40165  R356   11516529   10537995\n",
       "40341  R358    4568731    4963626\n",
       "40508  R370   16327991    9702545\n",
       "40684  R371   17817907   10093662\n",
       "40856  R372   13986728   11712576\n",
       "41025  R373   10350536   12266277\n",
       "41193  R382   20670125   16480920\n",
       "41370  R424   11844361    9948082\n",
       "41535  R429   23819150   19456559\n",
       "41718  R453   15960095   19466588\n",
       "41880  R454    4020948   15033736\n",
       "42047  R455    4287371   10654541\n",
       "42215  R456    5393612   12117900\n",
       "42392  R459     539504      29284\n",
       "42480  R464     419894      95280\n",
       "\n",
       "[240 rows x 3 columns]"
      ]
     },
     "execution_count": 202,
     "metadata": {},
     "output_type": "execute_result"
    }
   ],
   "source": [
    "df.merge"
   ]
  },
  {
   "cell_type": "code",
   "execution_count": null,
   "metadata": {
    "collapsed": true
   },
   "outputs": [],
   "source": []
  }
 ],
 "metadata": {
  "kernelspec": {
   "display_name": "Python 2",
   "language": "python",
   "name": "python2"
  },
  "language_info": {
   "codemirror_mode": {
    "name": "ipython",
    "version": 2
   },
   "file_extension": ".py",
   "mimetype": "text/x-python",
   "name": "python",
   "nbconvert_exporter": "python",
   "pygments_lexer": "ipython2",
   "version": "2.7.11"
  }
 },
 "nbformat": 4,
 "nbformat_minor": 1
}
