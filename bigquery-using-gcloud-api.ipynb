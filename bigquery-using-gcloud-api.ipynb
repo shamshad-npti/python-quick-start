{
 "cells": [
  {
   "cell_type": "markdown",
   "metadata": {},
   "source": [
    "# How to Fetch Data from BigQuery Using GCloud Python API\n",
    "To familiarize yourself with _bigquery concepts_, and _bigquery export schema_ for GA. You may get information here\n",
    "1. BigQuery Concepts [https://cloud.google.com/bigquery/what-is-bigquery](https://cloud.google.com/bigquery/what-is-bigquery)\n",
    "2. BigQuery Export Schema [https://support.google.com/analytics/answer/3437719?hl=en](https://support.google.com/analytics/answer/3437719?hl=en)\n",
    "3. GCloud Python API [https://googlecloudplatform.github.io/gcloud-python/0.14.0/bigquery-usage.html](https://googlecloudplatform.github.io/gcloud-python/0.14.0/bigquery-usage.html)"
   ]
  },
  {
   "cell_type": "markdown",
   "metadata": {},
   "source": [
    "### 1. Import necessary module\n",
    "We need to import bigquery from gcloud and ServiceAccountCredentials from oauth2client.service_account"
   ]
  },
  {
   "cell_type": "code",
   "execution_count": 72,
   "metadata": {
    "collapsed": false
   },
   "outputs": [],
   "source": [
    "from gcloud import bigquery\n",
    "from oauth2client.service_account import ServiceAccountCredentials\n",
    "import pandas as pd"
   ]
  },
  {
   "cell_type": "markdown",
   "metadata": {},
   "source": [
    "### 2. Create service account credentials from json key file\n",
    "All request to bigquery API must be authenticated using service account or user id. We use service account authentication here to fetch data from bigquery. For the same purpose we need to create credentials object from key file. \n",
    "\n",
    "To know more about it visit [https://cloud.google.com/bigquery/authentication](https://cloud.google.com/bigquery/authentication)"
   ]
  },
  {
   "cell_type": "code",
   "execution_count": 73,
   "metadata": {
    "collapsed": true
   },
   "outputs": [],
   "source": [
    "credentials = ServiceAccountCredentials.from_json_keyfile_name(filename=\"keyfile.json\")"
   ]
  },
  {
   "cell_type": "markdown",
   "metadata": {},
   "source": [
    "### 3. Create bigquery client to execute queries, get datasets and tables"
   ]
  },
  {
   "cell_type": "markdown",
   "metadata": {},
   "source": [
    "#### 3.1 Create Client\n",
    "To create client we need to pass to mandatory parameter\n",
    "1. Credentials - This is a oauth2client credentials object that is required to authenticate API call\n",
    "2. Project - Project ID to which each API call is made"
   ]
  },
  {
   "cell_type": "code",
   "execution_count": 74,
   "metadata": {
    "collapsed": true
   },
   "outputs": [],
   "source": [
    "client = bigquery.Client(credentials = credentials, project='project_id_here')"
   ]
  },
  {
   "cell_type": "markdown",
   "metadata": {},
   "source": [
    "#### 3.2 Get List of Datasets \n",
    "Make an API call to get all datasets in the project. Bigquery API call returns results in pages. When there is no more page `next_page_token` would be null, otherwise it is a pointer to next page result. "
   ]
  },
  {
   "cell_type": "code",
   "execution_count": 75,
   "metadata": {
    "collapsed": false
   },
   "outputs": [
    {
     "name": "stdout",
     "output_type": "stream",
     "text": [
      "102325651\n",
      "34831806\n",
      "6052661\n",
      "tmp\n"
     ]
    }
   ],
   "source": [
    "datasets, next_page_token = client.list_datasets() # API Call\n",
    "for dataset in datasets:\n",
    "    print (dataset.name)"
   ]
  },
  {
   "cell_type": "markdown",
   "metadata": {},
   "source": [
    "#### 3.3 Get All Tables in a Particular Dataset"
   ]
  },
  {
   "cell_type": "code",
   "execution_count": 76,
   "metadata": {
    "collapsed": false
   },
   "outputs": [
    {
     "name": "stdout",
     "output_type": "stream",
     "text": [
      "ga_sessions_20160810\n",
      "ga_sessions_20160811\n",
      "ga_sessions_20160812\n",
      "ga_sessions_20160813\n",
      "ga_sessions_20160814\n",
      "ga_sessions_20160815\n",
      "ga_sessions_20160816\n",
      "ga_sessions_20160817\n",
      "ga_sessions_20160818\n",
      "ga_sessions_intraday_20160819\n"
     ]
    }
   ],
   "source": [
    "tables, next_page_token = datasets[0].list_tables()\n",
    "table_name = []\n",
    "while True:\n",
    "    for table in tables:\n",
    "        table_name.append(table.name)\n",
    "    if next_page_token:\n",
    "        tables, next_page_token = datasets[0].list_tables(page_token=next_page_token)\n",
    "    else:\n",
    "        break\n",
    "\n",
    "print('\\n'.join(table_name[-10:]))"
   ]
  },
  {
   "cell_type": "markdown",
   "metadata": {},
   "source": [
    "#### 3.4 Fetch Data From BigQuery\n",
    "To fetch data we need to create a query string which is simply GBQ query. Thereafter we can invoke `client.run_sync_query` or `client.run_async_query` to get data from bigquery. The former runs in blocking/sync mode but the later will run in background and we need to poll the job status for the completion. \n",
    "\n",
    "##### TIP - It is suggested that always use maxResults, because in a single response bigquery can't return more than 10 MB of data. \n",
    "For more information on this limit visit [https://cloud.google.com/bigquery/docs/data#paging-through-list-results](https://cloud.google.com/bigquery/docs/data#paging-through-list-results)"
   ]
  },
  {
   "cell_type": "code",
   "execution_count": 86,
   "metadata": {
    "collapsed": false
   },
   "outputs": [],
   "source": [
    "query = '''\n",
    "    SELECT \n",
    "        IF(totals.newvisits IS NULL, 'Returning User', 'New User') AS USER_TYPE,\n",
    "        DATE,\n",
    "        COUNT(totals.visits) SESSIONS,\n",
    "        AVG(totals.pageviews) AS PAGE_DEPTH\n",
    "    FROM\n",
    "        TABLE_DATE_RANGE([34831806.ga_sessions_], TIMESTAMP('2016-07-01'), TIMESTAMP('2016-07-07'))\n",
    "    GROUP BY\n",
    "        USER_TYPE, DATE\n",
    "    ORDER BY DATE, USER_TYPE\n",
    "'''\n",
    "query_result = client.run_sync_query(query)\n",
    "query_result.run()"
   ]
  },
  {
   "cell_type": "code",
   "execution_count": 89,
   "metadata": {
    "collapsed": false
   },
   "outputs": [
    {
     "name": "stdout",
     "output_type": "stream",
     "text": [
      "[(u'USER_TYPE', u'STRING'), (u'DATE', u'STRING'), (u'SESSIONS', u'INTEGER'), (u'PAGE_DEPTH', u'FLOAT')]\n",
      "(u'New User', u'20160701', 924401, 4.984869956922758)\n",
      "(u'Returning User', u'20160701', 2906356, 6.286320121678447)\n",
      "(u'New User', u'20160702', 849042, 5.028440691141656)\n",
      "(u'Returning User', u'20160702', 2738384, 6.132032899206007)\n",
      "(u'New User', u'20160703', 896375, 5.432021250366761)\n",
      "(u'Returning User', u'20160703', 2854690, 6.87257143758003)\n",
      "(u'New User', u'20160704', 1013768, 5.602692958357789)\n",
      "(u'Returning User', u'20160704', 3405384, 7.002611140120516)\n",
      "(u'New User', u'20160705', 1084170, 5.822655595689182)\n",
      "(u'Returning User', u'20160705', 3612524, 7.460852318612158)\n",
      "(u'New User', u'20160706', 973246, 6.112778864648923)\n",
      "(u'Returning User', u'20160706', 3350059, 7.240907500528408)\n",
      "(u'New User', u'20160707', 975007, 6.1546255669265655)\n",
      "(u'Returning User', u'20160707', 3305482, 7.255116242481453)\n"
     ]
    }
   ],
   "source": [
    "# Print schema information of the returned result\n",
    "print (map(lambda x: (x.name, x.field_type), query_result.schema))\n",
    "# print data in returned response\n",
    "# Each row is represented by a tuple and entire result is just a python array of tuples\n",
    "print ('\\n'.join(map(str, query_result.rows)))"
   ]
  },
  {
   "cell_type": "code",
   "execution_count": null,
   "metadata": {
    "collapsed": true
   },
   "outputs": [],
   "source": []
  }
 ],
 "metadata": {
  "kernelspec": {
   "display_name": "Python 2",
   "language": "python",
   "name": "python2"
  },
  "language_info": {
   "codemirror_mode": {
    "name": "ipython",
    "version": 2
   },
   "file_extension": ".py",
   "mimetype": "text/x-python",
   "name": "python",
   "nbconvert_exporter": "python",
   "pygments_lexer": "ipython2",
   "version": "2.7.11"
  }
 },
 "nbformat": 4,
 "nbformat_minor": 0
}
