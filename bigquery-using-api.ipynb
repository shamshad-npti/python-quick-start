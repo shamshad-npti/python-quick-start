{
 "cells": [
  {
   "cell_type": "markdown",
   "metadata": {},
   "source": [
    "# How to Fetch Data from BigQuery Using Python API\n",
    "To familiarize yourself with _bigquery concepts_, and _bigquery export schema_ for GA. You may get information here\n",
    "1. BigQuery Concepts [https://cloud.google.com/bigquery/what-is-bigquery](https://cloud.google.com/bigquery/what-is-bigquery)\n",
    "2. BigQuery Export Schema [https://support.google.com/analytics/answer/3437719?hl=en](https://support.google.com/analytics/answer/3437719?hl=en)\n",
    "3. GCloud Python API [https://googlecloudplatform.github.io/gcloud-python/0.14.0/bigquery-usage.html](https://googlecloudplatform.github.io/gcloud-python/0.14.0/bigquery-usage.html)"
   ]
  },
  {
   "cell_type": "markdown",
   "metadata": {},
   "source": [
    "### 1. Import necessary module\n",
    "We need to import bigquery from gcloud and ServiceAccountCredentials from oauth2client.service_account"
   ]
  },
  {
   "cell_type": "code",
   "execution_count": 1,
   "metadata": {
    "collapsed": true
   },
   "outputs": [
    {
     "name": "stderr",
     "output_type": "stream",
     "text": [
      "/usr/local/lib/python2.7/site-packages/matplotlib/font_manager.py:273: UserWarning: Matplotlib is building the font cache using fc-list. This may take a moment.\n",
      "  warnings.warn('Matplotlib is building the font cache using fc-list. This may take a moment.')\n"
     ]
    }
   ],
   "source": [
    "from gcloud import bigquery\n",
    "from oauth2client.service_account import ServiceAccountCredentials\n",
    "import pandas as pd\n",
    "import matplotlib\n",
    "%matplotlib inline"
   ]
  },
  {
   "cell_type": "markdown",
   "metadata": {},
   "source": [
    "### 2. Create service account credentials from json key file\n",
    "All request to bigquery API must be authenticated using service account or user id. We use service account authentication here to fetch data from bigquery. For the same purpose we need to create credentials object from key file. \n",
    "\n",
    "To know more about it visit [https://cloud.google.com/bigquery/authentication](https://cloud.google.com/bigquery/authentication)"
   ]
  },
  {
   "cell_type": "code",
   "execution_count": 2,
   "metadata": {
    "collapsed": false
   },
   "outputs": [],
   "source": [
    "credentials = ServiceAccountCredentials.from_json_keyfile_name(filename=\"path/to/key-file.json\")"
   ]
  },
  {
   "cell_type": "markdown",
   "metadata": {},
   "source": [
    "### 3. Create bigquery client to execute queries, get datasets and tables"
   ]
  },
  {
   "cell_type": "markdown",
   "metadata": {},
   "source": [
    "#### 3.1 Create Client\n",
    "To create client we need to pass to mandatory parameter\n",
    "1. Credentials - This is a oauth2client credentials object that is required to authenticate API call\n",
    "2. Project - Project ID to which each API call is made"
   ]
  },
  {
   "cell_type": "code",
   "execution_count": 3,
   "metadata": {
    "collapsed": true
   },
   "outputs": [],
   "source": [
    "client = bigquery.Client(credentials = credentials, project='project_id')"
   ]
  },
  {
   "cell_type": "markdown",
   "metadata": {},
   "source": [
    "#### 3.2 Get List of Datasets \n",
    "Make an API call to get all datasets in current project. Bigquery API call returns results in pages. When there is no more page `next_page_token` would be null, otherwise it is a pointer to next page result. "
   ]
  },
  {
   "cell_type": "code",
   "execution_count": 4,
   "metadata": {
    "collapsed": false
   },
   "outputs": [
    {
     "name": "stdout",
     "output_type": "stream",
     "text": [
      "102325651\n",
      "34831806\n",
      "6052661\n",
      "tmp\n"
     ]
    }
   ],
   "source": [
    "datasets, next_page_token = client.list_datasets() # API Call\n",
    "for dataset in datasets:\n",
    "    print (dataset.name)"
   ]
  },
  {
   "cell_type": "markdown",
   "metadata": {},
   "source": [
    "#### 3.3 Get All Tables in a Particular Dataset"
   ]
  },
  {
   "cell_type": "code",
   "execution_count": 5,
   "metadata": {
    "collapsed": false
   },
   "outputs": [
    {
     "name": "stdout",
     "output_type": "stream",
     "text": [
      "ga_sessions_20160811\n",
      "ga_sessions_20160812\n",
      "ga_sessions_20160813\n",
      "ga_sessions_20160814\n",
      "ga_sessions_20160815\n",
      "ga_sessions_20160816\n",
      "ga_sessions_20160817\n",
      "ga_sessions_20160818\n",
      "ga_sessions_20160819\n",
      "ga_sessions_intraday_20160820\n"
     ]
    }
   ],
   "source": [
    "tables, next_page_token = datasets[0].list_tables()\n",
    "table_name = []\n",
    "while True:\n",
    "    for table in tables:\n",
    "        table_name.append(table.name)\n",
    "    if next_page_token:\n",
    "        tables, next_page_token = datasets[0].list_tables(page_token=next_page_token)\n",
    "    else:\n",
    "        break\n",
    "\n",
    "print('\\n'.join(table_name[-10:]))"
   ]
  },
  {
   "cell_type": "markdown",
   "metadata": {},
   "source": [
    "#### 3.4 Fetch Data From BigQuery\n",
    "To fetch data we need to create a query string which is simply GBQ query. Thereafter we can invoke `client.run_sync_query` or `client.run_async_query` to get data from bigquery. The former runs in blocking/sync mode but the later will run in background and we need to poll the job status for the completion. \n",
    "\n",
    "##### TIP - It is suggested that always use maxResults, because in a single response bigquery can't return more than 10 MB of data. \n",
    "For more information on this limit visit [https://cloud.google.com/bigquery/docs/data#paging-through-list-results](https://cloud.google.com/bigquery/docs/data#paging-through-list-results)"
   ]
  },
  {
   "cell_type": "code",
   "execution_count": 6,
   "metadata": {
    "collapsed": false
   },
   "outputs": [],
   "source": [
    "query = '''\n",
    "    SELECT \n",
    "        IF(totals.newvisits IS NULL, 'Returning User', 'New User') AS USER_TYPE,\n",
    "        DATE,\n",
    "        COUNT(totals.visits) SESSIONS,\n",
    "        AVG(totals.pageviews) AS PAGE_DEPTH\n",
    "    FROM\n",
    "        TABLE_DATE_RANGE([34831806.ga_sessions_], TIMESTAMP('2016-07-01'), TIMESTAMP('2016-07-07'))\n",
    "    GROUP BY\n",
    "        USER_TYPE, DATE\n",
    "    ORDER BY DATE, USER_TYPE\n",
    "'''\n",
    "query_result = client.run_sync_query(query)\n",
    "query_result.run()"
   ]
  },
  {
   "cell_type": "code",
   "execution_count": 7,
   "metadata": {
    "collapsed": false
   },
   "outputs": [
    {
     "name": "stdout",
     "output_type": "stream",
     "text": [
      "[(u'USER_TYPE', u'STRING'), (u'DATE', u'STRING'), (u'SESSIONS', u'INTEGER'), (u'PAGE_DEPTH', u'FLOAT')]\n",
      "(u'New User', u'20160701', 924401, 4.984869956922758)\n",
      "(u'Returning User', u'20160701', 2906356, 6.286320121678447)\n",
      "(u'New User', u'20160702', 849042, 5.028440691141656)\n",
      "(u'Returning User', u'20160702', 2738384, 6.132032899206007)\n",
      "(u'New User', u'20160703', 896375, 5.432021250366761)\n",
      "(u'Returning User', u'20160703', 2854690, 6.87257143758003)\n",
      "(u'New User', u'20160704', 1013768, 5.602692958357789)\n",
      "(u'Returning User', u'20160704', 3405384, 7.002611140120516)\n",
      "(u'New User', u'20160705', 1084170, 5.822655595689182)\n",
      "(u'Returning User', u'20160705', 3612524, 7.460852318612158)\n",
      "(u'New User', u'20160706', 973246, 6.112778864648923)\n",
      "(u'Returning User', u'20160706', 3350059, 7.240907500528408)\n",
      "(u'New User', u'20160707', 975007, 6.1546255669265655)\n",
      "(u'Returning User', u'20160707', 3305482, 7.255116242481453)\n"
     ]
    }
   ],
   "source": [
    "# Print schema information of the returned result\n",
    "print (map(lambda x: (x.name, x.field_type), query_result.schema))\n",
    "# print data in returned response\n",
    "# Each row is represented by a tuple and entire result is just a python array of tuples\n",
    "print ('\\n'.join(map(str, query_result.rows)))"
   ]
  },
  {
   "cell_type": "markdown",
   "metadata": {},
   "source": [
    "## Using Pandas to visualize BigQuery data\n",
    "We have seen how to fetch bigquery data using gcloud api client. In this section we would learn how that data can be used to visualize bigquery for data analytics"
   ]
  },
  {
   "cell_type": "markdown",
   "metadata": {},
   "source": [
    "#### Get list of users who have visited at least once for 25 or more days in a month along with when they visited for the first time and for the last time every day"
   ]
  },
  {
   "cell_type": "code",
   "execution_count": 8,
   "metadata": {
    "collapsed": false
   },
   "outputs": [],
   "source": [
    "query = '''\n",
    "SELECT\n",
    "  fullVisitorId,\n",
    "  firstSession,\n",
    "  lastSession,\n",
    "  sessions,\n",
    "  date\n",
    "FROM (\n",
    "  SELECT\n",
    "    fullVisitorId,\n",
    "    MIN(TIME(USEC_TO_TIMESTAMP(visitStartTime * 1000000))) firstSession,\n",
    "    MAX(TIME(USEC_TO_TIMESTAMP(visitStartTime * 1000000))) lastSession,\n",
    "    COUNT(totals.visits) AS sessions,\n",
    "    date\n",
    "  FROM\n",
    "    TABLE_DATE_RANGE(\n",
    "      [34831806.ga_sessions_], \n",
    "      TIMESTAMP('2016-07-01'), \n",
    "      TIMESTAMP('2016-07-31')\n",
    "    )\n",
    "  GROUP BY\n",
    "    fullVisitorId,\n",
    "    date\n",
    ") AS t1\n",
    "LEFT JOIN (\n",
    "  SELECT\n",
    "    uid\n",
    "  FROM (\n",
    "    SELECT\n",
    "      fullVisitorId AS uid,\n",
    "      COUNT(UNIQUE(DATE)) AS dailyVisitCount\n",
    "    FROM\n",
    "      TABLE_DATE_RANGE(\n",
    "        [34831806.ga_sessions_], \n",
    "        TIMESTAMP('2016-07-01'), \n",
    "        TIMESTAMP('2016-07-31')\n",
    "      )\n",
    "    WHERE\n",
    "      REGEXP_MATCH(hits.page.hostname, r'(bhaskar\\.com|m\\.bhaskar\\.com|daily\\.bhaskar\\.com|m\\.daily\\.bhaskar\\.com|divyamarathi\\.bhaskar\\.com)')\n",
    "      AND NOT (hits.page.hostname CONTAINS 'divyabhaskar')\n",
    "    GROUP BY\n",
    "      uid\n",
    "    HAVING \n",
    "      dailyVisitCount < 25\n",
    "  )\n",
    "  GROUP BY\n",
    "    uid\n",
    ") AS t2\n",
    "ON \n",
    "  t1.fullVisitorId = t2.uid\n",
    "WHERE \n",
    "  t2.uid IS NULL\n",
    "ORDER BY \n",
    "  t1.fullVisitorId, \n",
    "  t1.date\n",
    "LIMIT \n",
    "  1000\n",
    "'''\n",
    "query_result = client.run_sync_query(query)\n",
    "query_result.run()"
   ]
  },
  {
   "cell_type": "markdown",
   "metadata": {},
   "source": [
    "#### Create a pandas dataframe from query result. "
   ]
  },
  {
   "cell_type": "code",
   "execution_count": 9,
   "metadata": {
    "collapsed": false
   },
   "outputs": [
    {
     "data": {
      "text/html": [
       "<div>\n",
       "<table border=\"1\" class=\"dataframe\">\n",
       "  <thead>\n",
       "    <tr style=\"text-align: right;\">\n",
       "      <th></th>\n",
       "      <th>fullVisitorId</th>\n",
       "      <th>firstSession</th>\n",
       "      <th>lastSession</th>\n",
       "      <th>sessions</th>\n",
       "      <th>date</th>\n",
       "    </tr>\n",
       "  </thead>\n",
       "  <tbody>\n",
       "    <tr>\n",
       "      <th>0</th>\n",
       "      <td>1000143991713939325</td>\n",
       "      <td>19:09:26</td>\n",
       "      <td>19:09:26</td>\n",
       "      <td>1</td>\n",
       "      <td>20160701</td>\n",
       "    </tr>\n",
       "    <tr>\n",
       "      <th>1</th>\n",
       "      <td>1000143991713939325</td>\n",
       "      <td>08:53:09</td>\n",
       "      <td>19:13:58</td>\n",
       "      <td>3</td>\n",
       "      <td>20160702</td>\n",
       "    </tr>\n",
       "    <tr>\n",
       "      <th>2</th>\n",
       "      <td>1000143991713939325</td>\n",
       "      <td>12:33:51</td>\n",
       "      <td>12:33:51</td>\n",
       "      <td>1</td>\n",
       "      <td>20160703</td>\n",
       "    </tr>\n",
       "    <tr>\n",
       "      <th>3</th>\n",
       "      <td>1000143991713939325</td>\n",
       "      <td>15:19:35</td>\n",
       "      <td>19:48:28</td>\n",
       "      <td>2</td>\n",
       "      <td>20160704</td>\n",
       "    </tr>\n",
       "    <tr>\n",
       "      <th>4</th>\n",
       "      <td>1000143991713939325</td>\n",
       "      <td>06:08:35</td>\n",
       "      <td>15:18:40</td>\n",
       "      <td>4</td>\n",
       "      <td>20160705</td>\n",
       "    </tr>\n",
       "    <tr>\n",
       "      <th>5</th>\n",
       "      <td>1000143991713939325</td>\n",
       "      <td>04:24:28</td>\n",
       "      <td>08:24:12</td>\n",
       "      <td>3</td>\n",
       "      <td>20160706</td>\n",
       "    </tr>\n",
       "    <tr>\n",
       "      <th>6</th>\n",
       "      <td>1000143991713939325</td>\n",
       "      <td>19:19:19</td>\n",
       "      <td>19:19:19</td>\n",
       "      <td>1</td>\n",
       "      <td>20160708</td>\n",
       "    </tr>\n",
       "    <tr>\n",
       "      <th>7</th>\n",
       "      <td>1000143991713939325</td>\n",
       "      <td>08:30:41</td>\n",
       "      <td>17:46:24</td>\n",
       "      <td>3</td>\n",
       "      <td>20160709</td>\n",
       "    </tr>\n",
       "    <tr>\n",
       "      <th>8</th>\n",
       "      <td>1000143991713939325</td>\n",
       "      <td>18:05:22</td>\n",
       "      <td>18:05:22</td>\n",
       "      <td>1</td>\n",
       "      <td>20160710</td>\n",
       "    </tr>\n",
       "    <tr>\n",
       "      <th>9</th>\n",
       "      <td>1000143991713939325</td>\n",
       "      <td>07:34:25</td>\n",
       "      <td>16:43:04</td>\n",
       "      <td>3</td>\n",
       "      <td>20160711</td>\n",
       "    </tr>\n",
       "  </tbody>\n",
       "</table>\n",
       "</div>"
      ],
      "text/plain": [
       "         fullVisitorId firstSession lastSession  sessions      date\n",
       "0  1000143991713939325     19:09:26    19:09:26         1  20160701\n",
       "1  1000143991713939325     08:53:09    19:13:58         3  20160702\n",
       "2  1000143991713939325     12:33:51    12:33:51         1  20160703\n",
       "3  1000143991713939325     15:19:35    19:48:28         2  20160704\n",
       "4  1000143991713939325     06:08:35    15:18:40         4  20160705\n",
       "5  1000143991713939325     04:24:28    08:24:12         3  20160706\n",
       "6  1000143991713939325     19:19:19    19:19:19         1  20160708\n",
       "7  1000143991713939325     08:30:41    17:46:24         3  20160709\n",
       "8  1000143991713939325     18:05:22    18:05:22         1  20160710\n",
       "9  1000143991713939325     07:34:25    16:43:04         3  20160711"
      ]
     },
     "execution_count": 9,
     "metadata": {},
     "output_type": "execute_result"
    }
   ],
   "source": [
    "df = pd.DataFrame(data=query_result.rows, columns=map(lambda x: x.name, query_result.schema))\n",
    "df.head(10)"
   ]
  },
  {
   "cell_type": "markdown",
   "metadata": {},
   "source": [
    "#### Get sessions, pageviews, users, and newUsers by date"
   ]
  },
  {
   "cell_type": "code",
   "execution_count": 10,
   "metadata": {
    "collapsed": true
   },
   "outputs": [],
   "source": [
    "query = '''\n",
    "SELECT\n",
    "  date,\n",
    "  COUNT(totals.visits) AS sessions,\n",
    "  SUM(totals.pageviews) AS pageviews,\n",
    "  COUNT(UNIQUE(fullVisitorId)) AS users,\n",
    "  COUNT(IF(totals.visits IS NULL, null, totals.newVisits)) AS newUsers\n",
    "FROM\n",
    "  TABLE_DATE_RANGE([34831806.ga_sessions_], TIMESTAMP('2016-07-01'), TIMESTAMP('2016-07-31')) \n",
    "GROUP BY \n",
    "  date\n",
    "ORDER BY\n",
    "  date\n",
    "'''\n",
    "query_result = client.run_sync_query(query)\n",
    "query_result.run()"
   ]
  },
  {
   "cell_type": "code",
   "execution_count": 11,
   "metadata": {
    "collapsed": false
   },
   "outputs": [
    {
     "data": {
      "text/html": [
       "<div>\n",
       "<table border=\"1\" class=\"dataframe\">\n",
       "  <thead>\n",
       "    <tr style=\"text-align: right;\">\n",
       "      <th></th>\n",
       "      <th>date</th>\n",
       "      <th>sessions</th>\n",
       "      <th>pageviews</th>\n",
       "      <th>users</th>\n",
       "      <th>newUsers</th>\n",
       "    </tr>\n",
       "  </thead>\n",
       "  <tbody>\n",
       "    <tr>\n",
       "      <th>0</th>\n",
       "      <td>20160701</td>\n",
       "      <td>3830757</td>\n",
       "      <td>22876116</td>\n",
       "      <td>2783969</td>\n",
       "      <td>924401</td>\n",
       "    </tr>\n",
       "    <tr>\n",
       "      <th>1</th>\n",
       "      <td>20160702</td>\n",
       "      <td>3587426</td>\n",
       "      <td>21059171</td>\n",
       "      <td>2596225</td>\n",
       "      <td>849042</td>\n",
       "    </tr>\n",
       "    <tr>\n",
       "      <th>2</th>\n",
       "      <td>20160703</td>\n",
       "      <td>3751065</td>\n",
       "      <td>24486223</td>\n",
       "      <td>2641661</td>\n",
       "      <td>896375</td>\n",
       "    </tr>\n",
       "    <tr>\n",
       "      <th>3</th>\n",
       "      <td>20160704</td>\n",
       "      <td>4419152</td>\n",
       "      <td>29523831</td>\n",
       "      <td>3072363</td>\n",
       "      <td>1013768</td>\n",
       "    </tr>\n",
       "    <tr>\n",
       "      <th>4</th>\n",
       "      <td>20160705</td>\n",
       "      <td>4696694</td>\n",
       "      <td>33261661</td>\n",
       "      <td>3223885</td>\n",
       "      <td>1084170</td>\n",
       "    </tr>\n",
       "  </tbody>\n",
       "</table>\n",
       "</div>"
      ],
      "text/plain": [
       "       date  sessions  pageviews    users  newUsers\n",
       "0  20160701   3830757   22876116  2783969    924401\n",
       "1  20160702   3587426   21059171  2596225    849042\n",
       "2  20160703   3751065   24486223  2641661    896375\n",
       "3  20160704   4419152   29523831  3072363   1013768\n",
       "4  20160705   4696694   33261661  3223885   1084170"
      ]
     },
     "execution_count": 11,
     "metadata": {},
     "output_type": "execute_result"
    }
   ],
   "source": [
    "df = pd.DataFrame(data=query_result.rows, columns=map(lambda x: x.name, query_result.schema))\n",
    "df.head(5)"
   ]
  },
  {
   "cell_type": "markdown",
   "metadata": {},
   "source": [
    "#### Lets plot sessions, users and pageviews on the same plot the see trends and correlation\n",
    "It is intuitive and easy to observe that these metrics are highly correlated"
   ]
  },
  {
   "cell_type": "code",
   "execution_count": 12,
   "metadata": {
    "collapsed": false
   },
   "outputs": [
    {
     "data": {
      "image/png": "[encoded data removed]",
      "text/plain": [
       "<matplotlib.figure.Figure at 0x106f97d90>"
      ]
     },
     "metadata": {},
     "output_type": "display_data"
    }
   ],
   "source": [
    "matplotlib.style.use('seaborn-white')\n",
    "axis = df.plot.line(y='sessions')\n",
    "axis = df.plot.line(y='users', ax=axis)\n",
    "axis = df.plot.line(y='pageviews', secondary_y=True, ax=axis)\n",
    "axis.figure.set_size_inches(7, 5)"
   ]
  },
  {
   "cell_type": "markdown",
   "metadata": {},
   "source": [
    "#### Add some derived fields such as returning users, percentage of new and returning users"
   ]
  },
  {
   "cell_type": "code",
   "execution_count": 13,
   "metadata": {
    "collapsed": false
   },
   "outputs": [
    {
     "data": {
      "text/html": [
       "<div>\n",
       "<table border=\"1\" class=\"dataframe\">\n",
       "  <thead>\n",
       "    <tr style=\"text-align: right;\">\n",
       "      <th></th>\n",
       "      <th>date</th>\n",
       "      <th>sessions</th>\n",
       "      <th>pageviews</th>\n",
       "      <th>users</th>\n",
       "      <th>newUsers</th>\n",
       "      <th>returningUsers</th>\n",
       "      <th>perNewUsers</th>\n",
       "      <th>perReturningUsers</th>\n",
       "    </tr>\n",
       "  </thead>\n",
       "  <tbody>\n",
       "    <tr>\n",
       "      <th>0</th>\n",
       "      <td>20160701</td>\n",
       "      <td>3830757</td>\n",
       "      <td>22876116</td>\n",
       "      <td>2783969</td>\n",
       "      <td>924401</td>\n",
       "      <td>1859568</td>\n",
       "      <td>33.204429</td>\n",
       "      <td>66.795571</td>\n",
       "    </tr>\n",
       "    <tr>\n",
       "      <th>1</th>\n",
       "      <td>20160702</td>\n",
       "      <td>3587426</td>\n",
       "      <td>21059171</td>\n",
       "      <td>2596225</td>\n",
       "      <td>849042</td>\n",
       "      <td>1747183</td>\n",
       "      <td>32.702944</td>\n",
       "      <td>67.297056</td>\n",
       "    </tr>\n",
       "    <tr>\n",
       "      <th>2</th>\n",
       "      <td>20160703</td>\n",
       "      <td>3751065</td>\n",
       "      <td>24486223</td>\n",
       "      <td>2641661</td>\n",
       "      <td>896375</td>\n",
       "      <td>1745286</td>\n",
       "      <td>33.932249</td>\n",
       "      <td>66.067751</td>\n",
       "    </tr>\n",
       "    <tr>\n",
       "      <th>3</th>\n",
       "      <td>20160704</td>\n",
       "      <td>4419152</td>\n",
       "      <td>29523831</td>\n",
       "      <td>3072363</td>\n",
       "      <td>1013768</td>\n",
       "      <td>2058595</td>\n",
       "      <td>32.996361</td>\n",
       "      <td>67.003639</td>\n",
       "    </tr>\n",
       "    <tr>\n",
       "      <th>4</th>\n",
       "      <td>20160705</td>\n",
       "      <td>4696694</td>\n",
       "      <td>33261661</td>\n",
       "      <td>3223885</td>\n",
       "      <td>1084170</td>\n",
       "      <td>2139715</td>\n",
       "      <td>33.629301</td>\n",
       "      <td>66.370699</td>\n",
       "    </tr>\n",
       "  </tbody>\n",
       "</table>\n",
       "</div>"
      ],
      "text/plain": [
       "       date  sessions  pageviews    users  newUsers  returningUsers  \\\n",
       "0  20160701   3830757   22876116  2783969    924401         1859568   \n",
       "1  20160702   3587426   21059171  2596225    849042         1747183   \n",
       "2  20160703   3751065   24486223  2641661    896375         1745286   \n",
       "3  20160704   4419152   29523831  3072363   1013768         2058595   \n",
       "4  20160705   4696694   33261661  3223885   1084170         2139715   \n",
       "\n",
       "   perNewUsers  perReturningUsers  \n",
       "0    33.204429          66.795571  \n",
       "1    32.702944          67.297056  \n",
       "2    33.932249          66.067751  \n",
       "3    32.996361          67.003639  \n",
       "4    33.629301          66.370699  "
      ]
     },
     "execution_count": 13,
     "metadata": {},
     "output_type": "execute_result"
    }
   ],
   "source": [
    "df['returningUsers'] = df['users'] - df['newUsers']\n",
    "df['perNewUsers'] = df['newUsers'] / df['users'] * 100\n",
    "df['perReturningUsers'] = df['returningUsers'] / df['users'] * 100\n",
    "df.head(5)"
   ]
  },
  {
   "cell_type": "markdown",
   "metadata": {},
   "source": [
    "#### Stacked bar chart shows that percentage of new user by day for the 31 days period is almost constant"
   ]
  },
  {
   "cell_type": "code",
   "execution_count": 14,
   "metadata": {
    "collapsed": false
   },
   "outputs": [
    {
     "data": {
      "text/plain": [
       "<matplotlib.axes._subplots.AxesSubplot at 0x1041e6b90>"
      ]
     },
     "execution_count": 14,
     "metadata": {},
     "output_type": "execute_result"
    },
    {
     "data": {
      "image/png": "[encoded data removed]",
      "text/plain": [
       "<matplotlib.figure.Figure at 0x1041e6d90>"
      ]
     },
     "metadata": {},
     "output_type": "display_data"
    }
   ],
   "source": [
    "df[['date', 'perNewUsers', 'perReturningUsers']].plot.bar(stacked=True, width=1)"
   ]
  },
  {
   "cell_type": "code",
   "execution_count": 15,
   "metadata": {
    "collapsed": false
   },
   "outputs": [
    {
     "data": {
      "text/plain": [
       "<matplotlib.axes._subplots.AxesSubplot at 0x10713fbd0>"
      ]
     },
     "execution_count": 15,
     "metadata": {},
     "output_type": "execute_result"
    },
    {
     "data": {
      "image/png": "[encoded data removed]",
      "text/plain": [
       "<matplotlib.figure.Figure at 0x1072ebfd0>"
      ]
     },
     "metadata": {},
     "output_type": "display_data"
    }
   ],
   "source": [
    "df[['date', 'newUsers', 'returningUsers']].plot.line()"
   ]
  },
  {
   "cell_type": "code",
   "execution_count": null,
   "metadata": {
    "collapsed": true
   },
   "outputs": [],
   "source": []
  }
 ],
 "metadata": {
  "kernelspec": {
   "display_name": "Python 2",
   "language": "python",
   "name": "python2"
  },
  "language_info": {
   "codemirror_mode": {
    "name": "ipython",
    "version": 2
   },
   "file_extension": ".py",
   "mimetype": "text/x-python",
   "name": "python",
   "nbconvert_exporter": "python",
   "pygments_lexer": "ipython2",
   "version": "2.7.11"
  }
 },
 "nbformat": 4,
 "nbformat_minor": 0
}
